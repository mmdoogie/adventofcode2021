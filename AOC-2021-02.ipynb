{
 "cells": [
  {
   "cell_type": "code",
   "execution_count": 1,
   "id": "d3f4da67",
   "metadata": {},
   "outputs": [],
   "source": [
    "with open('data/aoc-2021-02.txt') as f:\n",
    "    dat = f.readlines()"
   ]
  },
  {
   "cell_type": "code",
   "execution_count": 2,
   "id": "bb425b29",
   "metadata": {},
   "outputs": [
    {
     "data": {
      "text/plain": [
       "'forward 3\\n'"
      ]
     },
     "execution_count": 2,
     "metadata": {},
     "output_type": "execute_result"
    }
   ],
   "source": [
    "dat[0]"
   ]
  },
  {
   "cell_type": "code",
   "execution_count": 3,
   "id": "a4b992dd",
   "metadata": {},
   "outputs": [
    {
     "data": {
      "text/plain": [
       "['forward', '3']"
      ]
     },
     "execution_count": 3,
     "metadata": {},
     "output_type": "execute_result"
    }
   ],
   "source": [
    "lines = [x.strip().split(' ') for x in dat]\n",
    "lines[0]"
   ]
  },
  {
   "cell_type": "code",
   "execution_count": 5,
   "id": "10ec5df0",
   "metadata": {},
   "outputs": [],
   "source": [
    "x_cmds = [int(x[1]) for x in filter(lambda x: x[0] == 'forward', lines)]"
   ]
  },
  {
   "cell_type": "code",
   "execution_count": 7,
   "id": "c8327f7e",
   "metadata": {},
   "outputs": [],
   "source": [
    "x_dist = sum(x_cmds)"
   ]
  },
  {
   "cell_type": "code",
   "execution_count": 11,
   "id": "5107b8c8",
   "metadata": {},
   "outputs": [],
   "source": [
    "y_cmds = [int(x[1]) * (-1 if x[0] == 'up' else 1) for x in filter(lambda x: x[0] != 'forward', lines)]"
   ]
  },
  {
   "cell_type": "code",
   "execution_count": 12,
   "id": "69447b8c",
   "metadata": {},
   "outputs": [],
   "source": [
    "y_dist = sum(y_cmds)"
   ]
  },
  {
   "cell_type": "code",
   "execution_count": 18,
   "id": "08c00e48",
   "metadata": {},
   "outputs": [
    {
     "name": "stdout",
     "output_type": "stream",
     "text": [
      "Part 1: 2147104\n"
     ]
    }
   ],
   "source": [
    "print(f'Part 1: {x_dist * y_dist}')"
   ]
  },
  {
   "cell_type": "code",
   "execution_count": 17,
   "id": "4fb9b491",
   "metadata": {},
   "outputs": [],
   "source": [
    "x_pos = 0\n",
    "y_pos = 0\n",
    "aim = 0\n",
    "for c in lines:\n",
    "    if c[0] == 'forward':\n",
    "        x_pos += int(c[1])\n",
    "        y_pos += int(c[1]) * aim\n",
    "    elif c[0] == 'up':\n",
    "        aim -= int(c[1])\n",
    "    else:\n",
    "        aim += int(c[1])"
   ]
  },
  {
   "cell_type": "code",
   "execution_count": 16,
   "id": "44d11f0f",
   "metadata": {},
   "outputs": [
    {
     "name": "stdout",
     "output_type": "stream",
     "text": [
      "Part 2: 2044620088\n"
     ]
    }
   ],
   "source": [
    "print(f'Part 2: {x_pos * y_pos}')"
   ]
  }
 ],
 "metadata": {
  "kernelspec": {
   "display_name": "Python 3 (ipykernel)",
   "language": "python",
   "name": "python3"
  },
  "language_info": {
   "codemirror_mode": {
    "name": "ipython",
    "version": 3
   },
   "file_extension": ".py",
   "mimetype": "text/x-python",
   "name": "python",
   "nbconvert_exporter": "python",
   "pygments_lexer": "ipython3",
   "version": "3.11.0"
  }
 },
 "nbformat": 4,
 "nbformat_minor": 5
}
