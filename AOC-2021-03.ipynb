{
 "cells": [
  {
   "cell_type": "code",
   "execution_count": 1,
   "metadata": {},
   "outputs": [],
   "source": [
    "from copy import copy"
   ]
  },
  {
   "cell_type": "code",
   "execution_count": 2,
   "metadata": {},
   "outputs": [],
   "source": [
    "with open('data/aoc-2021-03.txt') as f:\n",
    "    dat = [x.strip() for x in f.readlines()]"
   ]
  },
  {
   "cell_type": "code",
   "execution_count": 3,
   "metadata": {},
   "outputs": [
    {
     "data": {
      "text/plain": [
       "'110110000100'"
      ]
     },
     "execution_count": 3,
     "metadata": {},
     "output_type": "execute_result"
    }
   ],
   "source": [
    "dat[0]"
   ]
  },
  {
   "cell_type": "code",
   "execution_count": 4,
   "metadata": {},
   "outputs": [],
   "source": [
    "width = len(dat[0])"
   ]
  },
  {
   "cell_type": "code",
   "execution_count": 5,
   "metadata": {},
   "outputs": [],
   "source": [
    "transp = [[int(x[i]) for x in dat] for i in range(width)]"
   ]
  },
  {
   "cell_type": "code",
   "execution_count": 6,
   "metadata": {},
   "outputs": [],
   "source": [
    "sums = [sum(x) for x in transp]"
   ]
  },
  {
   "cell_type": "code",
   "execution_count": 7,
   "metadata": {},
   "outputs": [],
   "source": [
    "mcv = ['1' if x > len(dat)/2 else '0' for x in sums]"
   ]
  },
  {
   "cell_type": "code",
   "execution_count": 8,
   "metadata": {},
   "outputs": [],
   "source": [
    "gamma_val = int(''.join(mcv), 2)\n",
    "epsilon_val = 2**width-1-gamma_val"
   ]
  },
  {
   "cell_type": "code",
   "execution_count": 9,
   "metadata": {},
   "outputs": [
    {
     "name": "stdout",
     "output_type": "stream",
     "text": [
      "Part 1: 2640986\n"
     ]
    }
   ],
   "source": [
    "print(f'Part 1: {gamma_val * epsilon_val}')"
   ]
  },
  {
   "cell_type": "code",
   "execution_count": 10,
   "metadata": {},
   "outputs": [],
   "source": [
    "max_vals = copy(dat)\n",
    "min_vals = copy(dat)\n",
    "\n",
    "for p in range(width):\n",
    "    max_pv = [int(x[p]) for x in max_vals]\n",
    "    min_pv = [int(x[p]) for x in min_vals]\n",
    "    \n",
    "    mcv = '1' if sum(max_pv) >= len(max_vals)/2 else '0'\n",
    "    lcv = '1' if sum(min_pv) <  len(min_vals)/2 else '0'\n",
    "    \n",
    "    max_vals = list(filter(lambda x: x[p] == mcv, max_vals))    \n",
    "    if len(max_vals) == 1:\n",
    "        ogr_val = max_vals[0]\n",
    "\n",
    "    min_vals = list(filter(lambda x: x[p] == lcv, min_vals))\n",
    "    if len(min_vals) == 1:\n",
    "        co2_val = min_vals[0]"
   ]
  },
  {
   "cell_type": "code",
   "execution_count": 11,
   "metadata": {},
   "outputs": [
    {
     "name": "stdout",
     "output_type": "stream",
     "text": [
      "Part 2: 6822109\n"
     ]
    }
   ],
   "source": [
    "print(f'Part 2: {int(ogr_val, 2) * int(co2_val, 2)}')"
   ]
  }
 ],
 "metadata": {
  "kernelspec": {
   "display_name": "Python 3 (ipykernel)",
   "language": "python",
   "name": "python3"
  },
  "language_info": {
   "codemirror_mode": {
    "name": "ipython",
    "version": 3
   },
   "file_extension": ".py",
   "mimetype": "text/x-python",
   "name": "python",
   "nbconvert_exporter": "python",
   "pygments_lexer": "ipython3",
   "version": "3.11.0"
  }
 },
 "nbformat": 4,
 "nbformat_minor": 2
}
