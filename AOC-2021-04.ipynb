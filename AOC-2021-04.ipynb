{
 "cells": [
  {
   "cell_type": "code",
   "execution_count": 1,
   "metadata": {},
   "outputs": [],
   "source": [
    "with open('data/aoc-2021-04.txt', 'r') as f:\n",
    "    dat = [x.strip() for x in f.readlines()]"
   ]
  },
  {
   "cell_type": "code",
   "execution_count": 2,
   "metadata": {},
   "outputs": [],
   "source": [
    "calls = [int(x) for x in dat[0].split(',')]"
   ]
  },
  {
   "cell_type": "code",
   "execution_count": 3,
   "metadata": {},
   "outputs": [],
   "source": [
    "numCards = int((len(dat) - 1) / 6)"
   ]
  },
  {
   "cell_type": "code",
   "execution_count": 4,
   "metadata": {},
   "outputs": [
    {
     "name": "stdout",
     "output_type": "stream",
     "text": [
      "['58 60 65  4 91', '73 31 80 83 44', '98 47 33 21 25', '76  6 41 94 50', '55 30 52 11 36'] ['8 27 21 18 94', '59  3 47  1 64', '67 16 90 20 83', '26 43 87 82  4', '19 93 89 48 72']\n"
     ]
    }
   ],
   "source": [
    "txtCards = [dat[i*6+2 : i*6+2+5] for i in range(numCards)]\n",
    "# print(txtCards[0], txtCards[1])"
   ]
  },
  {
   "cell_type": "code",
   "execution_count": 5,
   "metadata": {},
   "outputs": [
    {
     "name": "stdout",
     "output_type": "stream",
     "text": [
      "[[58, 60, 65, 4, 91], [73, 31, 80, 83, 44], [98, 47, 33, 21, 25], [76, 6, 41, 94, 50], [55, 30, 52, 11, 36]]\n"
     ]
    }
   ],
   "source": [
    "cards = [[[int(y) for y in x.split(' ') if y != ''] for x in c] for c in txtCards]\n",
    "# print(cards[0])"
   ]
  },
  {
   "cell_type": "code",
   "execution_count": 6,
   "metadata": {},
   "outputs": [],
   "source": [
    "def checkCards(cards):\n",
    "    for i, d in enumerate(cards):\n",
    "        sums = [0, 0, 0, 0, 0]\n",
    "        for r in d:\n",
    "            if sum(r) == -5:\n",
    "                return i\n",
    "            for j, c in enumerate(r):\n",
    "                sums[j] += c\n",
    "        if any([s == -5 for s in sums]):\n",
    "            return i\n",
    "    return -1"
   ]
  },
  {
   "cell_type": "code",
   "execution_count": 7,
   "metadata": {},
   "outputs": [
    {
     "data": {
      "text/plain": [
       "-1"
      ]
     },
     "execution_count": 7,
     "metadata": {},
     "output_type": "execute_result"
    }
   ],
   "source": [
    "checkCards(cards)"
   ]
  },
  {
   "cell_type": "code",
   "execution_count": 8,
   "metadata": {},
   "outputs": [],
   "source": [
    "def applyNumber(cards, num):\n",
    "    for i, c in enumerate(cards):\n",
    "        for j, r in enumerate(c):\n",
    "            for k, v in enumerate(r):\n",
    "                if v == num:\n",
    "                    cards[i][j][k] = -1"
   ]
  },
  {
   "cell_type": "code",
   "execution_count": 9,
   "metadata": {},
   "outputs": [],
   "source": [
    "def scoreCard(cards, c, n):\n",
    "    card = cards[c]\n",
    "    return sum([x for x in sum(card, []) if x != -1]) * n"
   ]
  },
  {
   "cell_type": "code",
   "execution_count": 10,
   "metadata": {},
   "outputs": [
    {
     "name": "stdout",
     "output_type": "stream",
     "text": [
      "Part 1: 11536\n"
     ]
    }
   ],
   "source": [
    "for n in calls:\n",
    "    applyNumber(cards, n)\n",
    "    c = checkCards(cards)\n",
    "    if c != -1:\n",
    "        print(f'Part 1: {scoreCard(cards, c, n)}')\n",
    "        break"
   ]
  },
  {
   "cell_type": "code",
   "execution_count": 11,
   "metadata": {},
   "outputs": [],
   "source": [
    "def getWinners(cards):\n",
    "    winners = set()\n",
    "    for i, d in enumerate(cards):\n",
    "        sums = [0, 0, 0, 0, 0]\n",
    "        for r in d:\n",
    "            if sum(r) == -5:\n",
    "                winners.add(i)\n",
    "            for j, c in enumerate(r):\n",
    "                sums[j] += c\n",
    "        if any([s == -5 for s in sums]):\n",
    "            winners.add(i)\n",
    "    return winners"
   ]
  },
  {
   "cell_type": "code",
   "execution_count": 12,
   "metadata": {},
   "outputs": [
    {
     "name": "stdout",
     "output_type": "stream",
     "text": [
      "Part 2: 1284\n"
     ]
    }
   ],
   "source": [
    "cards = [[[int(y) for y in x.split(' ') if y != ''] for x in c] for c in txtCards]\n",
    "winners = set()\n",
    "\n",
    "for n in calls:\n",
    "    applyNumber(cards, n)\n",
    "    winning = getWinners(cards)\n",
    "    newWinners = winning.difference(winners)\n",
    "    winners.update(newWinners)\n",
    "    if len(newWinners) != 0:\n",
    "        scores = [scoreCard(cards, w, n) for w in newWinners]\n",
    "    \n",
    "print(f'Part 2: {scores[0]}')"
   ]
  }
 ],
 "metadata": {
  "kernelspec": {
   "display_name": "Python 3 (ipykernel)",
   "language": "python",
   "name": "python3"
  },
  "language_info": {
   "codemirror_mode": {
    "name": "ipython",
    "version": 3
   },
   "file_extension": ".py",
   "mimetype": "text/x-python",
   "name": "python",
   "nbconvert_exporter": "python",
   "pygments_lexer": "ipython3",
   "version": "3.11.0"
  }
 },
 "nbformat": 4,
 "nbformat_minor": 2
}
