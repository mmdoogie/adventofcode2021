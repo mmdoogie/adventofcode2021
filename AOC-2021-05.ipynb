{
 "cells": [
  {
   "cell_type": "code",
   "execution_count": 3,
   "metadata": {},
   "outputs": [],
   "source": [
    "import re\n",
    "import itertools"
   ]
  },
  {
   "cell_type": "code",
   "execution_count": 4,
   "metadata": {},
   "outputs": [],
   "source": [
    "with open('data/aoc-2021-05.txt', 'r') as f:\n",
    "    dat = f.readlines()"
   ]
  },
  {
   "cell_type": "code",
   "execution_count": 5,
   "metadata": {},
   "outputs": [],
   "source": [
    "pat = re.compile(r'(\\d*),(\\d*) -> (\\d*),(\\d*)')\n",
    "lines = [[int(v) for v in pat.match(x.strip()).groups()] for x in dat]"
   ]
  },
  {
   "cell_type": "code",
   "execution_count": 4,
   "metadata": {},
   "outputs": [],
   "source": [
    "hmap = dict()\n",
    "vmap = dict()\n",
    "\n",
    "for l in lines:\n",
    "    if l[1] == l[3]:\n",
    "        if l[1] in hmap:\n",
    "            hmap[l[1]] += [(min(l[0], l[2]), max(l[0], l[2]))]\n",
    "        else:\n",
    "            hmap[l[1]]  = [(min(l[0], l[2]), max(l[0], l[2]))]\n",
    "            \n",
    "    if l[0] == l[2]:\n",
    "        if l[0] in vmap:\n",
    "            vmap[l[0]] += [(min(l[1], l[3]), max(l[1], l[3]))]\n",
    "        else:\n",
    "            vmap[l[0]]  = [(min(l[1], l[3]), max(l[1], l[3]))]"
   ]
  },
  {
   "cell_type": "code",
   "execution_count": 69,
   "metadata": {},
   "outputs": [],
   "source": [
    "overlaps = set()\n",
    "\n",
    "for row, s in hmap.items():\n",
    "    pairs = itertools.combinations(s, 2)\n",
    "    for p in pairs:\n",
    "        if p[0][0] < p[1][0]:\n",
    "            left = p[0]\n",
    "            right = p[1]\n",
    "        else:\n",
    "            left = p[1]\n",
    "            right = p[0]\n",
    "\n",
    "        if right[0] >= left[0] and right[0] <= left[1]:\n",
    "            minval = right[0]\n",
    "\n",
    "            if left[1] <= right[1]:\n",
    "                maxval = left[1]\n",
    "            else:\n",
    "                maxval = right[1]\n",
    "\n",
    "            for x in range(minval, maxval + 1):\n",
    "                overlaps.add((x, row))"
   ]
  },
  {
   "cell_type": "code",
   "execution_count": 70,
   "metadata": {},
   "outputs": [],
   "source": [
    "for col, s in vmap.items():\n",
    "    for g in s:\n",
    "        for y in range(g[0], g[1] + 1):\n",
    "            if y in hmap:\n",
    "                for h in hmap[y]:\n",
    "                    if col >= h[0] and col <= h[1]:\n",
    "                        overlaps.add((col, y))"
   ]
  },
  {
   "cell_type": "code",
   "execution_count": 71,
   "metadata": {},
   "outputs": [],
   "source": [
    "for col, s in vmap.items():\n",
    "    pairs = itertools.combinations(s, 2)\n",
    "    for p in pairs:\n",
    "        if p[0][0] < p[1][0]:\n",
    "            left = p[0]\n",
    "            right = p[1]\n",
    "        else:\n",
    "            left = p[1]\n",
    "            right = p[0]\n",
    "        \n",
    "        if right[0] >= left[0] and right[0] <= left[1]:\n",
    "            minval = right[0]\n",
    "\n",
    "            if left[1] <= right[1]:\n",
    "                maxval = left[1]\n",
    "            else:\n",
    "                maxval = right[1]\n",
    "\n",
    "            for y in range(minval, maxval + 1):\n",
    "                overlaps.add((col, y))"
   ]
  },
  {
   "cell_type": "code",
   "execution_count": 73,
   "metadata": {},
   "outputs": [
    {
     "name": "stdout",
     "output_type": "stream",
     "text": [
      "Part 1: 7380\n"
     ]
    }
   ],
   "source": [
    "print(f'Part 1: {len(overlaps)}')"
   ]
  },
  {
   "cell_type": "code",
   "execution_count": 16,
   "metadata": {},
   "outputs": [],
   "source": [
    "hits = dict()\n",
    "\n",
    "for l in lines:\n",
    "    if l[0] == l[2]:\n",
    "        for y in range(min(l[1],l[3]), max(l[1],l[3])+1):\n",
    "            if (l[0], y) in hits:\n",
    "                hits[(l[0], y)] += 1\n",
    "            else:\n",
    "                hits[(l[0], y)] = 1\n",
    "    elif l[1] == l[3]:\n",
    "        for x in range(min(l[0],l[2]), max(l[0],l[2])+1):\n",
    "            if (x, l[1]) in hits:\n",
    "                hits[(x, l[1])] += 1\n",
    "            else:\n",
    "                hits[(x, l[1])] = 1\n",
    "    else:\n",
    "        if l[0] < l[2]:\n",
    "            sx, sy = l[0], l[1]\n",
    "            cx = l[2]-l[0]+1\n",
    "            dx, dy = 1, 1 if l[3] > l[1] else -1\n",
    "        else:\n",
    "            sx, sy = l[2], l[3]\n",
    "            cx = l[0]-l[2]+1\n",
    "            dx, dy = 1, 1 if l[1] > l[3] else -1\n",
    "        for i in range(cx):\n",
    "            p = (sx+i*dx, sy+i*dy)\n",
    "            if p in hits:\n",
    "                hits[p] += 1\n",
    "            else:\n",
    "                hits[p] = 1\n",
    "\n",
    "intersects = [h for h in hits.values() if h > 1]"
   ]
  },
  {
   "cell_type": "code",
   "execution_count": 17,
   "metadata": {},
   "outputs": [
    {
     "name": "stdout",
     "output_type": "stream",
     "text": [
      "Part 2: 21373\n"
     ]
    }
   ],
   "source": [
    "print(f'Part 2: {len(intersects)}')"
   ]
  }
 ],
 "metadata": {
  "kernelspec": {
   "display_name": "Python 3 (ipykernel)",
   "language": "python",
   "name": "python3"
  },
  "language_info": {
   "codemirror_mode": {
    "name": "ipython",
    "version": 3
   },
   "file_extension": ".py",
   "mimetype": "text/x-python",
   "name": "python",
   "nbconvert_exporter": "python",
   "pygments_lexer": "ipython3",
   "version": "3.11.0"
  }
 },
 "nbformat": 4,
 "nbformat_minor": 2
}
