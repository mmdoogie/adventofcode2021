{
 "cells": [
  {
   "cell_type": "code",
   "execution_count": 1,
   "metadata": {},
   "outputs": [],
   "source": [
    "with open('data/aoc-2021-06.txt') as f:\n",
    "    dat = f.readlines()[0].strip()"
   ]
  },
  {
   "cell_type": "code",
   "execution_count": 2,
   "metadata": {},
   "outputs": [],
   "source": [
    "fish = [int(f) for f in dat.split(\",\")]\n",
    "for d in range(80):\n",
    "    fish = [f-1 for f in fish]\n",
    "    spawn = [1 if f == -1 else 0 for f in fish]\n",
    "    fish = [f+7*s for f,s in zip(fish, spawn)] + [8]*sum(spawn)"
   ]
  },
  {
   "cell_type": "code",
   "execution_count": 3,
   "metadata": {},
   "outputs": [
    {
     "name": "stdout",
     "output_type": "stream",
     "text": [
      "Part 1: 346063\n"
     ]
    }
   ],
   "source": [
    "print(f'Part 1: {len(fish)}')"
   ]
  },
  {
   "cell_type": "code",
   "execution_count": 4,
   "metadata": {},
   "outputs": [],
   "source": [
    "fish = [int(f) for f in dat.split(\",\")]\n",
    "cnts = dict()\n",
    "for c in range(9):\n",
    "    cnts[c] = len([f for f in fish if f == c])\n",
    "\n",
    "for d in range(256):\n",
    "    for c in range(9):\n",
    "        cnts[c-1] = cnts[c]\n",
    "    cnts[8] = cnts[-1]\n",
    "    cnts[6] += cnts[-1]\n",
    "    cnts[-1] = 0"
   ]
  },
  {
   "cell_type": "code",
   "execution_count": 5,
   "metadata": {},
   "outputs": [
    {
     "name": "stdout",
     "output_type": "stream",
     "text": [
      "Part 2: 1572358335990\n"
     ]
    }
   ],
   "source": [
    "print(f'Part 2: {sum(cnts.values())}')"
   ]
  }
 ],
 "metadata": {
  "kernelspec": {
   "display_name": "Python 3 (ipykernel)",
   "language": "python",
   "name": "python3"
  },
  "language_info": {
   "codemirror_mode": {
    "name": "ipython",
    "version": 3
   },
   "file_extension": ".py",
   "mimetype": "text/x-python",
   "name": "python",
   "nbconvert_exporter": "python",
   "pygments_lexer": "ipython3",
   "version": "3.11.0"
  }
 },
 "nbformat": 4,
 "nbformat_minor": 2
}
