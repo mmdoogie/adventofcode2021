{
 "cells": [
  {
   "cell_type": "code",
   "execution_count": 1,
   "metadata": {},
   "outputs": [],
   "source": [
    "with open('data/aoc-2021-08.txt') as f:\n",
    "    dat = f.readlines()"
   ]
  },
  {
   "cell_type": "code",
   "execution_count": 2,
   "metadata": {},
   "outputs": [],
   "source": [
    "io = [d.strip().split(\"|\") for d in dat]"
   ]
  },
  {
   "cell_type": "code",
   "execution_count": 3,
   "metadata": {},
   "outputs": [],
   "source": [
    "ostr = [x[1].strip().split(\" \") for x in io]\n",
    "osort = [[''.join(sorted(v)) for v in x] for x in ostr]\n",
    "olen = [len(v) for x in ostr for v in x]"
   ]
  },
  {
   "cell_type": "code",
   "execution_count": 4,
   "metadata": {},
   "outputs": [],
   "source": [
    "care = [2, 3, 4, 7]"
   ]
  },
  {
   "cell_type": "code",
   "execution_count": 5,
   "metadata": {},
   "outputs": [],
   "source": [
    "these = sum([1 if l in care else 0 for l in olen])"
   ]
  },
  {
   "cell_type": "code",
   "execution_count": 6,
   "metadata": {},
   "outputs": [
    {
     "name": "stdout",
     "output_type": "stream",
     "text": [
      "Part 1: 548\n"
     ]
    }
   ],
   "source": [
    "print(f'Part 1: {these}')"
   ]
  },
  {
   "cell_type": "code",
   "execution_count": 7,
   "metadata": {},
   "outputs": [],
   "source": [
    "istr = [x[0].strip().split(\" \") for x in io]\n",
    "isort = [[''.join(sorted(v)) for v in x] for x in istr]"
   ]
  },
  {
   "cell_type": "code",
   "execution_count": 8,
   "metadata": {},
   "outputs": [],
   "source": [
    "iosort = [i + o for i, o in zip(isort,osort)]"
   ]
  },
  {
   "cell_type": "code",
   "execution_count": 9,
   "metadata": {},
   "outputs": [],
   "source": [
    "def str_in(a, b):\n",
    "    return len(set(a) - set(b)) == 0\n",
    "\n",
    "def deduce(s):\n",
    "    res = dict()\n",
    "    ires = dict()\n",
    "    \n",
    "    easy = {2: 1, 4: 4, 3: 7, 7: 8}\n",
    "    lens = [len(x) for x in s]\n",
    "    \n",
    "    for i, l in enumerate(lens):\n",
    "        if l in easy:\n",
    "            res[s[i]] = easy[l]\n",
    "            ires[easy[l]] = s[i]\n",
    "    \n",
    "    if 1 in ires:\n",
    "        for x in s:\n",
    "            if x in res:\n",
    "                continue\n",
    "            if len(x) == 5 and str_in(ires[1], x):\n",
    "                res[x] = 3\n",
    "                ires[3] = x\n",
    "            if len(x) == 6 and not str_in(ires[1], x):\n",
    "                res[x] = 6\n",
    "                ires[6] = x\n",
    "    \n",
    "    if 4 in ires:\n",
    "        for x in s:\n",
    "            if x in res:\n",
    "                continue\n",
    "            if len(x) == 6 and str_in(ires[4], x):\n",
    "                res[x] = 9\n",
    "                ires[9] = x\n",
    "            if len(x) == 6 and not str_in(ires[4], x) and 6 in ires:\n",
    "                res[x] = 0\n",
    "                ires[0] = x\n",
    "    \n",
    "    if 1 in ires and 4 in ires:\n",
    "        part = ''.join(set(ires[4]) - set(ires[1]))\n",
    "        for x in s:\n",
    "            if x in res:\n",
    "                continue\n",
    "            if len(x) == 5 and str_in(part, x):\n",
    "                res[x] = 5\n",
    "                ires[5] = x\n",
    "            if len(x) == 5 and not str_in(part, x) and 3 in ires:\n",
    "                res[x] = 2\n",
    "                ires[2] = x\n",
    "    \n",
    "    nums = [res[x] if x in res else x for x in s]\n",
    "    return int(''.join([str(x) for x in nums[-4:]]))"
   ]
  },
  {
   "cell_type": "code",
   "execution_count": 10,
   "metadata": {},
   "outputs": [],
   "source": [
    "out = sum([deduce(x) for x in iosort])"
   ]
  },
  {
   "cell_type": "code",
   "execution_count": 11,
   "metadata": {},
   "outputs": [
    {
     "name": "stdout",
     "output_type": "stream",
     "text": [
      "Part 2: 1074888\n"
     ]
    }
   ],
   "source": [
    "print(f'Part 2: {out}')"
   ]
  }
 ],
 "metadata": {
  "kernelspec": {
   "display_name": "Python 3 (ipykernel)",
   "language": "python",
   "name": "python3"
  },
  "language_info": {
   "codemirror_mode": {
    "name": "ipython",
    "version": 3
   },
   "file_extension": ".py",
   "mimetype": "text/x-python",
   "name": "python",
   "nbconvert_exporter": "python",
   "pygments_lexer": "ipython3",
   "version": "3.11.0"
  }
 },
 "nbformat": 4,
 "nbformat_minor": 2
}
