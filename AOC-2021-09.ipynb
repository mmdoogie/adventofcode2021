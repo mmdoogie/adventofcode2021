{
 "cells": [
  {
   "cell_type": "code",
   "execution_count": 65,
   "metadata": {},
   "outputs": [],
   "source": [
    "import functools"
   ]
  },
  {
   "cell_type": "code",
   "execution_count": 67,
   "metadata": {},
   "outputs": [],
   "source": [
    "with open('data/aoc-2021-09.txt') as f:\n",
    "    dat = [x.strip() for x in f.readlines()]\n",
    "    \n",
    "    #dat = ['2199943210','3987894921','9856789892','8767896789','9899965678']"
   ]
  },
  {
   "cell_type": "code",
   "execution_count": 68,
   "metadata": {},
   "outputs": [],
   "source": [
    "hmap = [[int(y) for y in list(x)] for x in dat]"
   ]
  },
  {
   "cell_type": "code",
   "execution_count": 69,
   "metadata": {},
   "outputs": [
    {
     "name": "stdout",
     "output_type": "stream",
     "text": [
      "Part 1: 566\n"
     ]
    }
   ],
   "source": [
    "xm = len(hmap[0])\n",
    "ym = len(hmap)\n",
    "\n",
    "score = 0\n",
    "minima = []\n",
    "\n",
    "for x in range(xm):\n",
    "    for y in range(ym):\n",
    "        h = hmap[y][x]\n",
    "        l, r, u, d = 10, 10, 10, 10\n",
    "\n",
    "        if x > 0:\n",
    "            l = hmap[y][x-1]\n",
    "        if x < xm - 1:\n",
    "            r = hmap[y][x+1]\n",
    "        if y > 0:\n",
    "            u = hmap[y-1][x]\n",
    "        if y < ym - 1:\n",
    "            d = hmap[y+1][x]\n",
    "\n",
    "        if all([h < v for v in [l, r, u, d]]):\n",
    "            score += 1 + h\n",
    "            minima += [(x, y)]\n",
    "            \n",
    "print(f'Part 1: {score}')"
   ]
  },
  {
   "cell_type": "code",
   "execution_count": 70,
   "metadata": {},
   "outputs": [],
   "source": [
    "hmap = [[int(y) for y in list(x)] for x in dat]\n",
    "basins = dict()\n",
    "\n",
    "def exlocs(x, y):\n",
    "    explore = set()\n",
    "    \n",
    "    if x > 0:\n",
    "        explore.add((x-1, y))\n",
    "    if x < xm - 1:\n",
    "        explore.add((x+1, y))\n",
    "    if y > 0:\n",
    "        explore.add((x, y-1))\n",
    "    if y < ym - 1:\n",
    "        explore.add((x, y+1))\n",
    "    \n",
    "    return explore\n",
    "\n",
    "for (x, y) in minima:\n",
    "    explore = set()\n",
    "    basin = 1\n",
    "\n",
    "    explore.update(exlocs(x, y))\n",
    "    hmap[y][x] = 10\n",
    "    \n",
    "    while len(explore) > 0:\n",
    "        (ex, ey) = explore.pop()\n",
    "        if hmap[ey][ex] < 9:\n",
    "            basin += 1\n",
    "            hmap[ey][ex] = 10\n",
    "            explore.update(exlocs(ex, ey))\n",
    "    basins[(x, y)] = basin"
   ]
  },
  {
   "cell_type": "code",
   "execution_count": 72,
   "metadata": {},
   "outputs": [],
   "source": [
    "result = functools.reduce(lambda a,b:a*b, sorted(basins.values(), reverse=True)[0:3])"
   ]
  },
  {
   "cell_type": "code",
   "execution_count": 73,
   "metadata": {},
   "outputs": [
    {
     "name": "stdout",
     "output_type": "stream",
     "text": [
      "Part 2: 891684\n"
     ]
    }
   ],
   "source": [
    "print(f'Part 2: {result}')"
   ]
  }
 ],
 "metadata": {
  "kernelspec": {
   "display_name": "Python 3 (ipykernel)",
   "language": "python",
   "name": "python3"
  },
  "language_info": {
   "codemirror_mode": {
    "name": "ipython",
    "version": 3
   },
   "file_extension": ".py",
   "mimetype": "text/x-python",
   "name": "python",
   "nbconvert_exporter": "python",
   "pygments_lexer": "ipython3",
   "version": "3.11.0"
  }
 },
 "nbformat": 4,
 "nbformat_minor": 2
}
