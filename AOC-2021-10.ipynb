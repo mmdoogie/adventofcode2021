{
 "cells": [
  {
   "cell_type": "code",
   "execution_count": 87,
   "metadata": {},
   "outputs": [],
   "source": [
    "with open('data/aoc-2021-10.txt') as f:\n",
    "    dat = [x.strip() for x in f.readlines()]\n",
    "    \n",
    "    #dat = ['[({(<(())[]>[[{[]{<()<>>','[(()[<>])]({[<{<<[]>>(','{([(<{}[<>[]}>{[]{[(<()>','(((({<>}<{<{<>}{[]{[]{}','[[<[([]))<([[{}[[()]]]','[{[{({}]{}}([{[{{{}}([]','{<[[]]>}<{[{[{[]{()[[[]','[<(<(<(<{}))><([]([]()','<{([([[(<>()){}]>(<<{{','<{([{{}}[<[[[<>{}]]]>[]]']"
   ]
  },
  {
   "cell_type": "code",
   "execution_count": 88,
   "metadata": {},
   "outputs": [],
   "source": [
    "illegal = []\n",
    "incomplete = []\n",
    "openers = ['<', '{', '(', '[']\n",
    "closers = ['>', '}', ')', ']']\n",
    "o_for_c = {a: b for a, b in zip(closers, openers)}\n",
    "c_for_o = {b: a for a, b in zip(closers, openers)}\n",
    "\n",
    "for line in dat:\n",
    "    opened = []\n",
    "    for ch in list(line):\n",
    "        if ch in openers:\n",
    "            opened += [ch]\n",
    "        elif ch in closers:\n",
    "            if o_for_c[ch] != opened[-1]:\n",
    "                illegal += [ch]\n",
    "                opened = []\n",
    "                break\n",
    "            else:\n",
    "                opened.pop()\n",
    "    if len(opened) != 0:\n",
    "        incomplete += [list(reversed([c_for_o[x] for x in opened]))]"
   ]
  },
  {
   "cell_type": "code",
   "execution_count": 89,
   "metadata": {},
   "outputs": [],
   "source": [
    "scores = {')': 3, ']': 57, '}': 1197, '>': 25137}\n",
    "synscore = sum([scores[x] for x in illegal])"
   ]
  },
  {
   "cell_type": "code",
   "execution_count": 90,
   "metadata": {},
   "outputs": [
    {
     "name": "stdout",
     "output_type": "stream",
     "text": [
      "Part 1: 323691\n"
     ]
    }
   ],
   "source": [
    "print(f'Part 1: {synscore}')"
   ]
  },
  {
   "cell_type": "code",
   "execution_count": 92,
   "metadata": {},
   "outputs": [],
   "source": [
    "points = {')': 1, ']': 2, '}': 3, '>': 4}\n",
    "compscores = []\n",
    "for ic in incomplete:\n",
    "    subscore = 0\n",
    "    for icc in ic:\n",
    "        subscore = subscore * 5 + points[icc]\n",
    "    compscores += [subscore]"
   ]
  },
  {
   "cell_type": "code",
   "execution_count": 94,
   "metadata": {},
   "outputs": [],
   "source": [
    "compscore = sorted(compscores)[int((len(compscores)-1)/2)]"
   ]
  },
  {
   "cell_type": "code",
   "execution_count": 95,
   "metadata": {},
   "outputs": [
    {
     "name": "stdout",
     "output_type": "stream",
     "text": [
      "Part 2: 2858785164\n"
     ]
    }
   ],
   "source": [
    "print(f'Part 2: {compscore}')"
   ]
  }
 ],
 "metadata": {
  "kernelspec": {
   "display_name": "Python 3 (ipykernel)",
   "language": "python",
   "name": "python3"
  },
  "language_info": {
   "codemirror_mode": {
    "name": "ipython",
    "version": 3
   },
   "file_extension": ".py",
   "mimetype": "text/x-python",
   "name": "python",
   "nbconvert_exporter": "python",
   "pygments_lexer": "ipython3",
   "version": "3.11.0"
  }
 },
 "nbformat": 4,
 "nbformat_minor": 2
}
