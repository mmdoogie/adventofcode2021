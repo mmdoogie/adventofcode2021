{
 "cells": [
  {
   "cell_type": "code",
   "execution_count": 16,
   "metadata": {},
   "outputs": [],
   "source": [
    "with open('data/aoc-2021-11.txt') as f:\n",
    "    dat = [x.strip() for x in f.readlines()]"
   ]
  },
  {
   "cell_type": "code",
   "execution_count": 17,
   "metadata": {},
   "outputs": [],
   "source": [
    "def plusup(omap):\n",
    "    return [[y+1 for y in x] for x in omap]"
   ]
  },
  {
   "cell_type": "code",
   "execution_count": 18,
   "metadata": {},
   "outputs": [],
   "source": [
    "def neighbors(x, y):\n",
    "    n = list()\n",
    "    if x > 0:\n",
    "        n += [(x-1, y)]\n",
    "\n",
    "    if x < sx - 1:\n",
    "        n += [(x+1, y)]\n",
    "\n",
    "    if y > 0:\n",
    "        n += [(x, y-1)]\n",
    "    \n",
    "    if y < sy - 1:\n",
    "        n += [(x, y+1)]\n",
    "        \n",
    "    if x > 0 and y > 0:\n",
    "        n += [(x-1, y-1)]\n",
    "    \n",
    "    if x > 0 and y < sy - 1:\n",
    "        n += [(x-1, y+1)]\n",
    "    \n",
    "    if x < sx - 1 and y > 0:\n",
    "        n += [(x+1, y-1)]\n",
    "    \n",
    "    if x < sx - 1 and y < sx - 1:\n",
    "        n += [(x+1, y+1)]\n",
    "    \n",
    "    return n"
   ]
  },
  {
   "cell_type": "code",
   "execution_count": 19,
   "metadata": {},
   "outputs": [],
   "source": [
    "def flash(omap, x, y, excl):\n",
    "    n = neighbors(x, y)\n",
    "    for (nx, ny) in n:\n",
    "        omap[ny][nx] += 1\n",
    "        if omap[ny][nx] > 9 and (nx, ny) not in excl:\n",
    "            excl.add((nx, ny))\n",
    "            flash(omap, nx, ny, excl)"
   ]
  },
  {
   "cell_type": "code",
   "execution_count": 22,
   "metadata": {},
   "outputs": [
    {
     "name": "stdout",
     "output_type": "stream",
     "text": [
      "Part 1: 1634\n"
     ]
    }
   ],
   "source": [
    "omap = [[int(y) for y in list(x)] for x in dat]\n",
    "sx = len(omap[0])\n",
    "sy = len(omap)\n",
    "\n",
    "\n",
    "flashCount = 0\n",
    "for i in range(100):\n",
    "    omap = plusup(omap)\n",
    "    flashed = set()\n",
    "\n",
    "    for y in range(sy):\n",
    "        for x in range(sx):\n",
    "            if omap[y][x] > 9 and (x, y) not in flashed:\n",
    "                flashed.add((x,y))\n",
    "                flash(omap, x, y, flashed)\n",
    "\n",
    "    flashCount += len(flashed)\n",
    "    for (x, y) in flashed:\n",
    "        omap[y][x] = 0\n",
    "\n",
    "print(f'Part 1: {flashCount}')"
   ]
  },
  {
   "cell_type": "code",
   "execution_count": 24,
   "metadata": {},
   "outputs": [
    {
     "name": "stdout",
     "output_type": "stream",
     "text": [
      "Part 1: 210\n"
     ]
    }
   ],
   "source": [
    "omap = [[int(y) for y in list(x)] for x in dat]\n",
    "sx = len(omap[0])\n",
    "sy = len(omap)\n",
    "\n",
    "\n",
    "flashCount = 0\n",
    "it = 0\n",
    "while flashCount != 100:\n",
    "    omap = plusup(omap)\n",
    "    flashed = set()\n",
    "\n",
    "    for y in range(sy):\n",
    "        for x in range(sx):\n",
    "            if omap[y][x] > 9 and (x, y) not in flashed:\n",
    "                flashed.add((x,y))\n",
    "                flash(omap, x, y, flashed)\n",
    "\n",
    "    flashCount = len(flashed)\n",
    "    for (x, y) in flashed:\n",
    "        omap[y][x] = 0\n",
    "    it += 1\n",
    "\n",
    "print(f'Part 1: {it}')"
   ]
  }
 ],
 "metadata": {
  "kernelspec": {
   "display_name": "Python 3 (ipykernel)",
   "language": "python",
   "name": "python3"
  },
  "language_info": {
   "codemirror_mode": {
    "name": "ipython",
    "version": 3
   },
   "file_extension": ".py",
   "mimetype": "text/x-python",
   "name": "python",
   "nbconvert_exporter": "python",
   "pygments_lexer": "ipython3",
   "version": "3.11.0"
  }
 },
 "nbformat": 4,
 "nbformat_minor": 2
}
