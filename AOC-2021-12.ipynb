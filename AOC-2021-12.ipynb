{
 "cells": [
  {
   "cell_type": "code",
   "execution_count": 1,
   "metadata": {},
   "outputs": [],
   "source": [
    "with open('data/aoc-2021-12.txt') as f:\n",
    "    dat = [x.strip() for x in f.readlines()]"
   ]
  },
  {
   "cell_type": "code",
   "execution_count": 3,
   "metadata": {},
   "outputs": [],
   "source": [
    "cavemap = dict()\n",
    "for line in dat:\n",
    "    lhs, rhs = line.split('-')\n",
    "    if rhs != 'start' and lhs != 'end':\n",
    "        if lhs in cavemap:\n",
    "            cavemap[lhs] += [rhs]\n",
    "        else:\n",
    "            cavemap[lhs] = [rhs]\n",
    "    if lhs != 'start' and rhs != 'end':\n",
    "        if rhs in cavemap:\n",
    "            cavemap[rhs] += [lhs]\n",
    "        else:\n",
    "            cavemap[rhs] = [lhs]"
   ]
  },
  {
   "cell_type": "code",
   "execution_count": 5,
   "metadata": {},
   "outputs": [],
   "source": [
    "fullPaths = []\n",
    "explorePaths = [['start']]\n",
    "while len(explorePaths) > 0:\n",
    "    currPath = explorePaths.pop()\n",
    "    for exit in cavemap[currPath[-1]]:\n",
    "        if exit[0] >= 'a' and exit[0] <= 'z' and exit in currPath:\n",
    "            continue\n",
    "        if exit == 'end':\n",
    "            fullPaths += [currPath + ['end']]\n",
    "            continue\n",
    "        if len(currPath) > 20:\n",
    "            continue\n",
    "        explorePaths += [currPath + [exit]]\n",
    "\n",
    "pathStrs = ['-'.join(x) for x in fullPaths]\n",
    "validPathCount = len(set(pathStrs))"
   ]
  },
  {
   "cell_type": "code",
   "execution_count": 6,
   "metadata": {},
   "outputs": [
    {
     "name": "stdout",
     "output_type": "stream",
     "text": [
      "Part 1: 4659\n"
     ]
    }
   ],
   "source": [
    "print(f'Part 1: {validPathCount}')"
   ]
  },
  {
   "cell_type": "code",
   "execution_count": 7,
   "metadata": {},
   "outputs": [],
   "source": [
    "fullPaths = []\n",
    "explorePaths = [['start']]\n",
    "while len(explorePaths) > 0:\n",
    "    currPath = explorePaths.pop()\n",
    "    for exit in cavemap[currPath[-1]]:\n",
    "        if exit[0] >= 'a' and exit[0] <= 'z' and exit in currPath:\n",
    "            skip = False\n",
    "            smallCaves = [x for x in currPath if x[0] >= 'a' and x[0] <= 'z']\n",
    "            for sc in set(smallCaves):\n",
    "                if len([x for x in currPath if x == sc]) == 2:\n",
    "                    skip = True\n",
    "                    break\n",
    "            if not skip:\n",
    "                explorePaths += [currPath + [exit]]\n",
    "            continue\n",
    "        if exit == 'end':\n",
    "            fullPaths += [currPath + ['end']]\n",
    "            continue\n",
    "        if len(currPath) > 20:\n",
    "            continue\n",
    "        explorePaths += [currPath + [exit]]\n",
    "\n",
    "pathStrs = ['-'.join(x) for x in fullPaths]\n",
    "validPathCount = len(set(pathStrs))"
   ]
  },
  {
   "cell_type": "code",
   "execution_count": 18,
   "metadata": {},
   "outputs": [
    {
     "name": "stdout",
     "output_type": "stream",
     "text": [
      "Part 2: 148962\n"
     ]
    }
   ],
   "source": [
    "print(f'Part 2: {validPathCount}')"
   ]
  }
 ],
 "metadata": {
  "kernelspec": {
   "display_name": "Python 3 (ipykernel)",
   "language": "python",
   "name": "python3"
  },
  "language_info": {
   "codemirror_mode": {
    "name": "ipython",
    "version": 3
   },
   "file_extension": ".py",
   "mimetype": "text/x-python",
   "name": "python",
   "nbconvert_exporter": "python",
   "pygments_lexer": "ipython3",
   "version": "3.11.0"
  }
 },
 "nbformat": 4,
 "nbformat_minor": 2
}
