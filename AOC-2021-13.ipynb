{
 "cells": [
  {
   "cell_type": "code",
   "execution_count": 1,
   "metadata": {},
   "outputs": [],
   "source": [
    "with open('data/aoc-2021-13.txt') as f:\n",
    "    dat = [x.strip() for x in f.readlines()]"
   ]
  },
  {
   "cell_type": "code",
   "execution_count": 2,
   "metadata": {},
   "outputs": [
    {
     "data": {
      "text/plain": [
       "'77,882'"
      ]
     },
     "execution_count": 2,
     "metadata": {},
     "output_type": "execute_result"
    }
   ],
   "source": [
    "dat[0]"
   ]
  },
  {
   "cell_type": "code",
   "execution_count": 3,
   "metadata": {},
   "outputs": [
    {
     "data": {
      "text/plain": [
       "'fold along y=6'"
      ]
     },
     "execution_count": 3,
     "metadata": {},
     "output_type": "execute_result"
    }
   ],
   "source": [
    "dat[-1]"
   ]
  },
  {
   "cell_type": "code",
   "execution_count": 7,
   "metadata": {},
   "outputs": [],
   "source": [
    "pointStrs = [x for x in dat if len(x) > 0 and x[0] != 'f']\n",
    "foldStrs = [x for x in dat if len(x) > 0 and x[0] == 'f']"
   ]
  },
  {
   "cell_type": "code",
   "execution_count": 18,
   "metadata": {},
   "outputs": [],
   "source": [
    "def fold(points, axis, loc):\n",
    "    for p in points:\n",
    "        if axis == 'x':\n",
    "            if p[0] < loc:\n",
    "                continue\n",
    "            else:\n",
    "                p[0] = loc - (p[0] - loc)\n",
    "        else:\n",
    "            if p[1] < loc:\n",
    "                continue\n",
    "            else:\n",
    "                p[1] = loc - (p[1] - loc)"
   ]
  },
  {
   "cell_type": "code",
   "execution_count": 35,
   "metadata": {},
   "outputs": [
    {
     "name": "stdout",
     "output_type": "stream",
     "text": [
      "Part 1: 708\n"
     ]
    }
   ],
   "source": [
    "points = [[int(y) for y in x.split(',')] for x in pointStrs]\n",
    "folds = [x.split(' ')[2].split('=') for x in foldStrs]\n",
    "\n",
    "fold(points, folds[0][0], int(folds[0][1]))\n",
    "uniqPoints = set([','.join([str(a) for a in p]) for p in points])\n",
    "\n",
    "print(f'Part 1: {len(uniqPoints)}')"
   ]
  },
  {
   "cell_type": "code",
   "execution_count": 58,
   "metadata": {},
   "outputs": [],
   "source": [
    "points = [[int(y) for y in x.split(',')] for x in pointStrs]\n",
    "\n",
    "for f in folds:\n",
    "    fold(points, f[0], int(f[1]))\n",
    "\n",
    "rows = []\n",
    "maxx = max([p[0] for p in points])\n",
    "ys = sorted(list(set([p[1] for p in points])))\n",
    "for y in ys:\n",
    "    xs = set(p[0] for p in points if p[1] == y)\n",
    "    row = str(y) + ': '\n",
    "    for x in range(maxx + 1):\n",
    "        row += '#' if x in xs else '.'\n",
    "    rows += [row]"
   ]
  },
  {
   "cell_type": "code",
   "execution_count": 55,
   "metadata": {},
   "outputs": [
    {
     "data": {
      "text/plain": [
       "38"
      ]
     },
     "execution_count": 55,
     "metadata": {},
     "output_type": "execute_result"
    }
   ],
   "source": [
    "print('Part 2')\n",
    "for r in rows:\n",
    "    print(r)\n"
   ]
  },
  {
   "cell_type": "code",
   "execution_count": null,
   "metadata": {},
   "outputs": [],
   "source": []
  }
 ],
 "metadata": {
  "kernelspec": {
   "display_name": "Python 3 (ipykernel)",
   "language": "python",
   "name": "python3"
  },
  "language_info": {
   "codemirror_mode": {
    "name": "ipython",
    "version": 3
   },
   "file_extension": ".py",
   "mimetype": "text/x-python",
   "name": "python",
   "nbconvert_exporter": "python",
   "pygments_lexer": "ipython3",
   "version": "3.11.0"
  }
 },
 "nbformat": 4,
 "nbformat_minor": 2
}
