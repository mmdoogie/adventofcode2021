{
 "cells": [
  {
   "cell_type": "code",
   "execution_count": 1,
   "metadata": {},
   "outputs": [],
   "source": [
    "import re"
   ]
  },
  {
   "cell_type": "code",
   "execution_count": 2,
   "metadata": {},
   "outputs": [],
   "source": [
    "with open('data/aoc-2021-14.txt') as f:\n",
    "    dat = [x.strip() for x in f.readlines()]"
   ]
  },
  {
   "cell_type": "code",
   "execution_count": 3,
   "metadata": {},
   "outputs": [],
   "source": [
    "r = re.compile('([A-Z]{2}) -> ([A-Z])')\n",
    "subs = {a: b for (a,b) in [r.match(l).groups() for l in dat[2:]]}"
   ]
  },
  {
   "cell_type": "code",
   "execution_count": 54,
   "metadata": {},
   "outputs": [],
   "source": [
    "pairs = subs.keys()\n",
    "genmap = {p: [f'{p[0]}{subs[p]}', f'{subs[p]}{p[1]}'] for p in pairs}"
   ]
  },
  {
   "cell_type": "code",
   "execution_count": 63,
   "metadata": {},
   "outputs": [],
   "source": [
    "polymer = dat[0]\n",
    "cnts = {p: 0 for p in pairs}\n",
    "for i in range(len(polymer)-1):\n",
    "    cnts[polymer[i:i+2]] += 1\n",
    "    \n",
    "for i in range(10):\n",
    "    addCnts = {p: 0 for p in pairs}\n",
    "    for p in [k for k in cnts.keys() if cnts[k] != 0]:\n",
    "        addCnts[p] -= cnts[p]\n",
    "        for g in genmap[p]:\n",
    "            addCnts[g] += cnts[p]\n",
    "    for k, v in addCnts.items():\n",
    "        cnts[k] += v"
   ]
  },
  {
   "cell_type": "code",
   "execution_count": 76,
   "metadata": {},
   "outputs": [],
   "source": [
    "letters = set([x for p in pairs for x in p])\n",
    "singleCnts = {l: 0 for l in letters}\n",
    "\n",
    "for p in cnts.keys():\n",
    "    singleCnts[p[0]] += cnts[p]\n",
    "    singleCnts[p[1]] += cnts[p]\n",
    "\n",
    "singleCnts[polymer[0]] -= 1\n",
    "singleCnts[polymer[-1]] -= 1\n",
    "\n",
    "for l in letters:\n",
    "    singleCnts[l] = int(singleCnts[l] / 2)\n",
    "\n",
    "singleCnts[polymer[0]] += 1\n",
    "singleCnts[polymer[-1]] += 1\n",
    "    \n",
    "srtcnts = sorted(singleCnts.items(), key=lambda x: x[1])"
   ]
  },
  {
   "cell_type": "code",
   "execution_count": 79,
   "metadata": {},
   "outputs": [
    {
     "name": "stdout",
     "output_type": "stream",
     "text": [
      "Phase 1: 3411\n"
     ]
    }
   ],
   "source": [
    "ans1 = srtcnts[-1][1] - srtcnts[0][1]\n",
    "print(f'Phase 1: {ans1}')"
   ]
  },
  {
   "cell_type": "code",
   "execution_count": 81,
   "metadata": {},
   "outputs": [
    {
     "name": "stdout",
     "output_type": "stream",
     "text": [
      "Phase 1: 7477815755570\n"
     ]
    }
   ],
   "source": [
    "polymer = dat[0]\n",
    "cnts = {p: 0 for p in pairs}\n",
    "for i in range(len(polymer)-1):\n",
    "    cnts[polymer[i:i+2]] += 1\n",
    "    \n",
    "for i in range(40):\n",
    "    addCnts = {p: 0 for p in pairs}\n",
    "    for p in [k for k in cnts.keys() if cnts[k] != 0]:\n",
    "        addCnts[p] -= cnts[p]\n",
    "        for g in genmap[p]:\n",
    "            addCnts[g] += cnts[p]\n",
    "    for k, v in addCnts.items():\n",
    "        cnts[k] += v\n",
    "\n",
    "singleCnts = {l: 0 for l in letters}\n",
    "\n",
    "for p in cnts.keys():\n",
    "    singleCnts[p[0]] += cnts[p]\n",
    "    singleCnts[p[1]] += cnts[p]\n",
    "\n",
    "singleCnts[polymer[0]] -= 1\n",
    "singleCnts[polymer[-1]] -= 1\n",
    "\n",
    "for l in letters:\n",
    "    singleCnts[l] = int(singleCnts[l] / 2)\n",
    "\n",
    "singleCnts[polymer[0]] += 1\n",
    "singleCnts[polymer[-1]] += 1\n",
    "    \n",
    "srtcnts = sorted(singleCnts.items(), key=lambda x: x[1])\n",
    "ans2 = srtcnts[-1][1] - srtcnts[0][1]\n",
    "print(f'Phase 1: {ans2}')"
   ]
  }
 ],
 "metadata": {
  "kernelspec": {
   "display_name": "Python 3 (ipykernel)",
   "language": "python",
   "name": "python3"
  },
  "language_info": {
   "codemirror_mode": {
    "name": "ipython",
    "version": 3
   },
   "file_extension": ".py",
   "mimetype": "text/x-python",
   "name": "python",
   "nbconvert_exporter": "python",
   "pygments_lexer": "ipython3",
   "version": "3.11.0"
  }
 },
 "nbformat": 4,
 "nbformat_minor": 2
}
