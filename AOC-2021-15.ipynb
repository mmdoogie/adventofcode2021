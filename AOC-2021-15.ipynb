{
 "cells": [
  {
   "cell_type": "code",
   "execution_count": 1,
   "metadata": {},
   "outputs": [],
   "source": [
    "with open('data/aoc-2021-15.txt') as f:\n",
    "    dat = [[int(v) for v in list(x.strip())] for x in f.readlines()]"
   ]
  },
  {
   "cell_type": "code",
   "execution_count": 2,
   "metadata": {},
   "outputs": [],
   "source": [
    "def neighbors(pt, width, height):\n",
    "    x, y = pt\n",
    "    \n",
    "    n = list()\n",
    "    if x > 0:\n",
    "        n += [(x-1, y)]\n",
    "    if x < width-1:\n",
    "        n += [(x+1, y)]\n",
    "    if y > 0:\n",
    "        n += [(x, y-1)]\n",
    "    if y < width-1:\n",
    "        n += [(x, y+1)]\n",
    "    return n"
   ]
  },
  {
   "cell_type": "code",
   "execution_count": 31,
   "metadata": {},
   "outputs": [],
   "source": [
    "def djikstra(dat):\n",
    "    width = len(dat[0])\n",
    "    height = len(dat)\n",
    "\n",
    "    visited = set()\n",
    "    weights = dict()\n",
    "    toex = dict()\n",
    "\n",
    "    currWeight = 0\n",
    "    currPoint = (0,0)\n",
    "    toex[(0,0)] = 0\n",
    "\n",
    "    while True:\n",
    "        if currPoint == (width-1, height-1):\n",
    "            break\n",
    "        del(toex[currPoint])\n",
    "        visited.add(currPoint)\n",
    "        weights[currPoint] = currWeight\n",
    "        for n in neighbors(currPoint, width, height):\n",
    "            nw = currWeight + dat[n[1]][n[0]]\n",
    "            if n not in weights or nw < weights[n]:\n",
    "                weights[n] = nw\n",
    "                if n not in visited:\n",
    "                    toex[n] = nw\n",
    "        cand = sorted(list(toex.items()), key=lambda x: x[1])\n",
    "        currPoint, currWeight = cand[0]\n",
    "\n",
    "    return weights"
   ]
  },
  {
   "cell_type": "code",
   "execution_count": 32,
   "metadata": {},
   "outputs": [
    {
     "name": "stdout",
     "output_type": "stream",
     "text": [
      "Part 1: 441\n"
     ]
    }
   ],
   "source": [
    "weights1 = djikstra(dat)\n",
    "print(f'Part 1: {weights1[(99,99)]}')"
   ]
  },
  {
   "cell_type": "code",
   "execution_count": 33,
   "metadata": {},
   "outputs": [],
   "source": [
    "def plusup(l, a):\n",
    "    return [((v - 1 + a) % 9) + 1 for v in l]\n",
    "\n",
    "def embiggenmap(dat):\n",
    "    big = list()\n",
    "    \n",
    "    for y in range(5):\n",
    "        for r in dat:\n",
    "            big += [plusup(r, y+0) + plusup(r, y+1) + plusup(r, y+2) + plusup(r, y+3) + plusup(r, y+4)]\n",
    "    \n",
    "    return big"
   ]
  },
  {
   "cell_type": "code",
   "execution_count": 34,
   "metadata": {
    "scrolled": true
   },
   "outputs": [
    {
     "name": "stdout",
     "output_type": "stream",
     "text": [
      "Part 2: 2849\n"
     ]
    }
   ],
   "source": [
    "big = embiggenmap(dat)\n",
    "weights2 = djikstra(big)\n",
    "print(f'Part 2: {weights2[(499,499)]}')"
   ]
  }
 ],
 "metadata": {
  "kernelspec": {
   "display_name": "Python 3 (ipykernel)",
   "language": "python",
   "name": "python3"
  },
  "language_info": {
   "codemirror_mode": {
    "name": "ipython",
    "version": 3
   },
   "file_extension": ".py",
   "mimetype": "text/x-python",
   "name": "python",
   "nbconvert_exporter": "python",
   "pygments_lexer": "ipython3",
   "version": "3.11.0"
  }
 },
 "nbformat": 4,
 "nbformat_minor": 2
}
