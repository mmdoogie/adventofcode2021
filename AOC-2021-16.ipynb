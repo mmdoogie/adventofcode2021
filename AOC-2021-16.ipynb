{
 "cells": [
  {
   "cell_type": "code",
   "execution_count": 1,
   "metadata": {},
   "outputs": [],
   "source": [
    "with open('data/aoc-2021-16.txt') as f:\n",
    "    dat = f.readlines()[0].strip()"
   ]
  },
  {
   "cell_type": "code",
   "execution_count": 3,
   "metadata": {},
   "outputs": [
    {
     "data": {
      "text/plain": [
       "'1010'"
      ]
     },
     "execution_count": 3,
     "metadata": {},
     "output_type": "execute_result"
    }
   ],
   "source": [
    "format(10,'04b')"
   ]
  },
  {
   "cell_type": "code",
   "execution_count": 2,
   "metadata": {},
   "outputs": [
    {
     "data": {
      "text/plain": [
       "'420D4900B8F31EFE7BD9DA455401AB80021504A2745E1007A21C1C862801F54AD0765BE833D8B9F4CE8564B9BE6C5CC011E00D5C001098F11A232080391521E4799FC5BB3EE1A8C010A00AE256F4963B33391DEE57DA748F5DCC011D00461A4FDC823C900659387DA00A49F5226A54EC378615002A47B364921C201236803349B856119B34C76BD8FB50B6C266EACE400424883880513B62687F38A13BCBEF127782A600B7002A923D4F959A0C94F740A969D0B4C016D00540010B8B70E226080331961C411950F3004F001579BA884DD45A59B40005D8362011C7198C4D0A4B8F73F3348AE40183CC7C86C017997F9BC6A35C220001BD367D08080287914B984D9A46932699675006A702E4E3BCF9EA5EE32600ACBEADC1CD00466446644A6FBC82F9002B734331D261F08020192459B24937D9664200B427963801A094A41CE529075200D5F4013988529EF82CEFED3699F469C8717E6675466007FE67BE815C9E84E2F300257224B256139A9E73637700B6334C63719E71D689B5F91F7BFF9F6EE33D5D72BE210013BCC01882111E31980391423FC4920042E39C7282E4028480021111E1BC6310066374638B200085C2C8DB05540119D229323700924BE0F3F1B527D89E4DB14AD253BFC30C01391F815002A539BA9C4BADB80152692A012CDCF20F35FDF635A9CCC71F261A080356B00565674FBE4ACE9F7C95EC19080371A009025B59BE05E5B59BE04E69322310020724FD3832401D14B4A34D1FE80233578CD224B9181F4C729E97508C017E005F2569D1D92D894BFE76FAC4C5FDDBA990097B2FBF704B40111006A1FC43898200E419859079C00C7003900B8D1002100A49700340090A40216CC00F1002900688201775400A3002C8040B50035802CC60087CC00E1002A4F35815900903285B401AA880391E61144C0004363445583A200CC2C939D3D1A41C66EC40'"
      ]
     },
     "execution_count": 2,
     "metadata": {},
     "output_type": "execute_result"
    }
   ],
   "source": [
    "dat"
   ]
  },
  {
   "cell_type": "code",
   "execution_count": 10,
   "metadata": {},
   "outputs": [],
   "source": [
    "def hex2bin(hs):\n",
    "    bs = ''\n",
    "    for h in hs:\n",
    "        bs += format(int(h, 16), '04b')\n",
    "    return bs"
   ]
  },
  {
   "cell_type": "code",
   "execution_count": 16,
   "metadata": {},
   "outputs": [],
   "source": [
    "bindat = hex2bin(dat)"
   ]
  },
  {
   "cell_type": "code",
   "execution_count": 64,
   "metadata": {},
   "outputs": [],
   "source": [
    "def parsePacket(b, i):\n",
    "    v = int(b[i+0:i+3], 2)\n",
    "    t = int(b[i+3:i+6], 2)\n",
    "    i = i + 6\n",
    "    \n",
    "    if t == 4:\n",
    "        ds = ''\n",
    "        while True:\n",
    "            more = b[i] == '1'\n",
    "            ds += b[i+1:i+5]\n",
    "            i += 5\n",
    "            if not more:\n",
    "                break\n",
    "        d = int(ds, 2)\n",
    "        return (i, (v, t, d))\n",
    "    else:\n",
    "        if b[i] == '0': #15 bits total length\n",
    "            i += 1\n",
    "            end = i + 15 + int(b[i:i+15], 2)\n",
    "            i += 15\n",
    "            subpkts = []\n",
    "            while i < end:\n",
    "                i, pkt = parsePacket(b, i)\n",
    "                subpkts += [pkt]\n",
    "            d = subpkts\n",
    "        else: #11 bit subpacket count\n",
    "            i += 1\n",
    "            cnt = int(b[i:i+11], 2)\n",
    "            i += 11\n",
    "            subpkts = []\n",
    "            for f in range(cnt):\n",
    "                i, pkt = parsePacket(b, i)\n",
    "                subpkts += [pkt]\n",
    "            d = subpkts\n",
    "        return (i, (v, t, d))\n",
    "    return 0"
   ]
  },
  {
   "cell_type": "code",
   "execution_count": 65,
   "metadata": {},
   "outputs": [],
   "source": [
    "def verSum(pkt):\n",
    "    vs = pkt[0]\n",
    "    if pkt[1] != 4:\n",
    "        for p in pkt[2]:\n",
    "            vs += verSum(p)\n",
    "    return vs"
   ]
  },
  {
   "cell_type": "code",
   "execution_count": 66,
   "metadata": {},
   "outputs": [
    {
     "name": "stdout",
     "output_type": "stream",
     "text": [
      "Part 1: 947\n"
     ]
    }
   ],
   "source": [
    "pkts = parsePacket(bindat, 0)[1]\n",
    "vs = verSum(pkts)\n",
    "print(f'Part 1: {vs}')"
   ]
  },
  {
   "cell_type": "code",
   "execution_count": 69,
   "metadata": {},
   "outputs": [],
   "source": [
    "from functools import reduce\n",
    "\n",
    "def evalPacket(pkt):\n",
    "    if pkt[1] == 4:\n",
    "        return pkt[2]\n",
    "\n",
    "    vals = [evalPacket(p) for p in pkt[2]]\n",
    "\n",
    "    if pkt[1] == 0:\n",
    "        return sum(vals)\n",
    "    elif pkt[1] == 1:\n",
    "        return reduce(lambda a, b: a * b, vals)\n",
    "    elif pkt[1] == 2:\n",
    "        return min(vals)\n",
    "    elif pkt[1] == 3:\n",
    "        return max(vals)\n",
    "    elif pkt[1] == 5:\n",
    "        return 1 if vals[0] > vals[1] else 0\n",
    "    elif pkt[1] == 6:\n",
    "        return 1 if vals[0] < vals[1] else 0\n",
    "    elif pkt[1] == 7:\n",
    "        return 1 if vals[0] == vals[1] else 0"
   ]
  },
  {
   "cell_type": "code",
   "execution_count": 70,
   "metadata": {},
   "outputs": [
    {
     "data": {
      "text/plain": [
       "660797830937"
      ]
     },
     "execution_count": 70,
     "metadata": {},
     "output_type": "execute_result"
    }
   ],
   "source": [
    "evalPacket(pkts)"
   ]
  },
  {
   "cell_type": "code",
   "execution_count": 71,
   "metadata": {},
   "outputs": [
    {
     "data": {
      "text/plain": [
       "(2,\n",
       " 0,\n",
       " [(1,\n",
       "   1,\n",
       "   [(7, 4, 614077380133),\n",
       "    (2,\n",
       "     5,\n",
       "     [(7, 0, [(2, 4, 2), (2, 4, 9), (6, 4, 11)]),\n",
       "      (6, 0, [(6, 4, 8), (3, 4, 3), (4, 4, 6)])])]),\n",
       "  (1,\n",
       "   2,\n",
       "   [(2, 4, 1347), (5, 4, 1784), (1, 4, 59511), (6, 4, 2466), (5, 4, 2931890)]),\n",
       "  (7,\n",
       "   1,\n",
       "   [(1,\n",
       "     7,\n",
       "     [(7, 0, [(1, 4, 15), (0, 4, 13), (0, 4, 12)]),\n",
       "      (4, 0, [(4, 4, 10), (4, 4, 7), (4, 4, 15)])]),\n",
       "    (1, 4, 4167908749)]),\n",
       "  (2, 1, [(0, 5, [(0, 4, 1463979318), (3, 4, 29042617)]), (6, 4, 478)]),\n",
       "  (7, 1, [(1, 6, [(1, 4, 6), (4, 4, 3956)]), (0, 4, 15)]),\n",
       "  (1, 1, [(4, 4, 199), (6, 6, [(4, 4, 985), (0, 4, 2722958220)])]),\n",
       "  (1, 2, [(2, 4, 7484)]),\n",
       "  (4, 4, 35),\n",
       "  (4, 1, [(5, 5, [(4, 4, 184877372), (6, 4, 9714442831537)]), (1, 4, 2908)]),\n",
       "  (7, 1, [(4, 4, 16)]),\n",
       "  (7, 0, [(0, 4, 3428), (6, 4, 7), (7, 4, 202), (0, 4, 231192622), (7, 4, 2)]),\n",
       "  (5, 1, [(6, 7, [(4, 4, 473), (7, 4, 1336)]), (1, 4, 146241)]),\n",
       "  (2, 4, 25413),\n",
       "  (5,\n",
       "   1,\n",
       "   [(6,\n",
       "     6,\n",
       "     [(5, 0, [(3, 4, 11), (3, 4, 7), (0, 4, 9)]),\n",
       "      (4, 0, [(1, 4, 12), (5, 4, 7), (0, 4, 2)])]),\n",
       "    (1, 4, 81)]),\n",
       "  (7, 1, [(3, 6, [(7, 4, 2898), (0, 4, 2898)]), (6, 4, 109)]),\n",
       "  (5, 0, [(5, 4, 3)]),\n",
       "  (3, 0, [(3, 4, 14), (1, 4, 34872), (2, 4, 719), (3, 4, 3894)]),\n",
       "  (4, 4, 10),\n",
       "  (7, 1, [(7, 4, 2292), (1, 5, [(7, 4, 159), (7, 4, 193598856)])]),\n",
       "  (4, 0, [(6, 4, 183), (6, 4, 4)]),\n",
       "  (0, 1, [(7, 4, 25), (3, 4, 137), (5, 4, 168), (6, 4, 52), (6, 4, 156)]),\n",
       "  (7, 2, [(2, 4, 193), (3, 4, 3258863), (2, 4, 1907)]),\n",
       "  (1, 1, [(5, 4, 501443), (4, 6, [(1, 4, 146), (1, 4, 146)])]),\n",
       "  (2, 4, 777227),\n",
       "  (7, 1, [(3, 4, 163), (1, 4, 14), (4, 4, 143)]),\n",
       "  (4, 1, [(1, 4, 40), (5, 4, 180), (4, 4, 63), (5, 4, 108)]),\n",
       "  (4, 1, [(0, 4, 235), (0, 7, [(0, 4, 17422), (3, 4, 17422)])]),\n",
       "  (5, 1, [(7, 6, [(3, 4, 134500080), (5, 4, 915005)]), (1, 4, 248)]),\n",
       "  (6, 4, 49355),\n",
       "  (7, 4, 37720),\n",
       "  (6, 3, [(7, 4, 646661), (3, 4, 930), (3, 4, 11)]),\n",
       "  (6, 3, [(3, 4, 20), (5, 4, 610)]),\n",
       "  (3, 4, 10721638),\n",
       "  (7,\n",
       "   3,\n",
       "   [(5, 4, 12),\n",
       "    (6, 4, 36693055709),\n",
       "    (0, 4, 187),\n",
       "    (7, 4, 8304672126),\n",
       "    (1, 4, 240829924)]),\n",
       "  (1,\n",
       "   0,\n",
       "   [(7, 1, [(0, 4, 2), (0, 4, 8), (7, 4, 12)]),\n",
       "    (3, 1, [(4, 4, 10), (0, 4, 15), (7, 4, 9)]),\n",
       "    (1, 1, [(3, 4, 14), (3, 4, 14), (2, 4, 2)])]),\n",
       "  (7,\n",
       "   1,\n",
       "   [(1, 0, [(0, 4, 8), (7, 4, 6), (7, 4, 12)]),\n",
       "    (3, 0, [(1, 4, 13), (6, 4, 12), (3, 4, 11)]),\n",
       "    (1, 0, [(3, 4, 5), (4, 4, 13), (5, 4, 2)])]),\n",
       "  (5, 2, [(1, 4, 212), (2, 4, 52)]),\n",
       "  (3, 3, [(4, 4, 752), (7, 4, 4049878295), (4, 4, 188), (2, 4, 88225777)]),\n",
       "  (4, 1, [(3, 4, 496), (2, 5, [(2, 4, 52055), (0, 4, 123)])]),\n",
       "  (3, 3, [(2, 4, 57)]),\n",
       "  (1, 2, [(5, 4, 45968), (7, 4, 2948404567), (1, 4, 2255), (4, 4, 141)]),\n",
       "  (0, 1, [(6, 5, [(5, 4, 341247), (4, 4, 341247)]), (4, 4, 23820)]),\n",
       "  (4, 1, [(1, 5, [(0, 4, 6985602), (7, 4, 6985602)]), (3, 4, 169)]),\n",
       "  (4, 4, 8),\n",
       "  (6, 1, [(3, 4, 47), (6, 4, 195)]),\n",
       "  (1, 1, [(2, 4, 6427815), (7, 6, [(1, 4, 684345), (0, 4, 180487)])]),\n",
       "  (6, 4, 147120856),\n",
       "  (2, 1, [(7, 7, [(4, 4, 21715), (5, 4, 690)]), (2, 4, 8337147)]),\n",
       "  (0, 4, 8908154),\n",
       "  (3,\n",
       "   1,\n",
       "   [(5, 4, 507586),\n",
       "    (2,\n",
       "     6,\n",
       "     [(1, 0, [(2, 4, 7), (7, 4, 8), (3, 4, 9)]),\n",
       "      (4, 0, [(4, 4, 3), (1, 4, 5), (4, 4, 3)])])]),\n",
       "  (6,\n",
       "   3,\n",
       "   [(4,\n",
       "     3,\n",
       "     [(6,\n",
       "       2,\n",
       "       [(5,\n",
       "         0,\n",
       "         [(0,\n",
       "           2,\n",
       "           [(1,\n",
       "             3,\n",
       "             [(5,\n",
       "               0,\n",
       "               [(2,\n",
       "                 2,\n",
       "                 [(3,\n",
       "                   1,\n",
       "                   [(7,\n",
       "                     0,\n",
       "                     [(2,\n",
       "                       2,\n",
       "                       [(0,\n",
       "                         1,\n",
       "                         [(5,\n",
       "                           2,\n",
       "                           [(2,\n",
       "                             1,\n",
       "                             [(3,\n",
       "                               1,\n",
       "                               [(3,\n",
       "                                 2,\n",
       "                                 [(5,\n",
       "                                   3,\n",
       "                                   [(4,\n",
       "                                     3,\n",
       "                                     [(7,\n",
       "                                       1,\n",
       "                                       [(6,\n",
       "                                         0,\n",
       "                                         [(2,\n",
       "                                           4,\n",
       "                                           234757)])])])])])])])])])])])])])])])])])])])]),\n",
       "  (3,\n",
       "   1,\n",
       "   [(1, 4, 69),\n",
       "    (5,\n",
       "     5,\n",
       "     [(5, 0, [(4, 4, 15), (1, 4, 4), (2, 4, 9)]),\n",
       "      (4, 0, [(5, 4, 13), (0, 4, 10), (5, 4, 3)])])]),\n",
       "  (5, 0, [(1, 4, 5), (4, 4, 860754958), (1, 4, 2916)])])"
      ]
     },
     "execution_count": 71,
     "metadata": {},
     "output_type": "execute_result"
    }
   ],
   "source": [
    "pkts"
   ]
  },
  {
   "cell_type": "code",
   "execution_count": null,
   "metadata": {},
   "outputs": [],
   "source": []
  }
 ],
 "metadata": {
  "kernelspec": {
   "display_name": "Python 3 (ipykernel)",
   "language": "python",
   "name": "python3"
  },
  "language_info": {
   "codemirror_mode": {
    "name": "ipython",
    "version": 3
   },
   "file_extension": ".py",
   "mimetype": "text/x-python",
   "name": "python",
   "nbconvert_exporter": "python",
   "pygments_lexer": "ipython3",
   "version": "3.11.0"
  }
 },
 "nbformat": 4,
 "nbformat_minor": 2
}
