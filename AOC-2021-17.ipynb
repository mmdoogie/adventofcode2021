{
 "cells": [
  {
   "cell_type": "code",
   "execution_count": 68,
   "metadata": {},
   "outputs": [],
   "source": [
    "import re"
   ]
  },
  {
   "cell_type": "code",
   "execution_count": 68,
   "metadata": {},
   "outputs": [],
   "source": [
    "with open('data/aoc-2021-17.txt') as f:\n",
    "    dat = [x.strip() for x in f.readlines()]\n",
    "r = re.compile('.*x=([-0-9]*)\\.\\.([-0-9]*), y=([-0-9]*)\\.\\.([-0-9]*)')\n",
    "g = r.match(dat[0]).groups()\n",
    "targetX = [int(x) for x in g[0:2]]\n",
    "targetY = [int(x) for x in g[2:4]]\n"
   ]
  },
  {
   "cell_type": "code",
   "execution_count": 69,
   "metadata": {},
   "outputs": [],
   "source": [
    "def hit(xvel, yvel):\n",
    "    maxY = 0\n",
    "    x = 0\n",
    "    y = 0\n",
    "    while True:\n",
    "        x += xvel\n",
    "        y += yvel\n",
    "        maxY = max(y, maxY)\n",
    "        if x >= targetX[0] and x <= targetX[1] and y >= targetY[0] and y <= targetY[1]:\n",
    "            return maxY\n",
    "        if x > targetX[1] or y < targetY[0]:\n",
    "            return None\n",
    "        if xvel > 0:\n",
    "            xvel -= 1\n",
    "        elif xvel < 0:\n",
    "            xvel += 1\n",
    "        yvel -= 1"
   ]
  },
  {
   "cell_type": "code",
   "execution_count": 70,
   "metadata": {},
   "outputs": [
    {
     "name": "stdout",
     "output_type": "stream",
     "text": [
      "Part 1: 5460\n",
      "Part 2: 3618\n"
     ]
    }
   ],
   "source": [
    "maxH = 0\n",
    "maxHv = (0, 0)\n",
    "cntH = 0\n",
    "for yv in range(-110, 500):\n",
    "    for xv in range(0, 260):\n",
    "        h = hit(xv, yv)\n",
    "        if h is None:\n",
    "            continue\n",
    "        cntH += 1\n",
    "        if h > maxH:\n",
    "            maxH = h\n",
    "            maxHv = (xv, yv)\n",
    "print(f'Part 1: {maxH}')\n",
    "print(f'Part 2: {cntH}')"
   ]
  }
 ],
 "metadata": {
  "kernelspec": {
   "display_name": "Python 3 (ipykernel)",
   "language": "python",
   "name": "python3"
  },
  "language_info": {
   "codemirror_mode": {
    "name": "ipython",
    "version": 3
   },
   "file_extension": ".py",
   "mimetype": "text/x-python",
   "name": "python",
   "nbconvert_exporter": "python",
   "pygments_lexer": "ipython3",
   "version": "3.11.0"
  }
 },
 "nbformat": 4,
 "nbformat_minor": 2
}
