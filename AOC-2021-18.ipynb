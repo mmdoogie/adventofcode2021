{
 "cells": [
  {
   "cell_type": "code",
   "execution_count": 41,
   "metadata": {},
   "outputs": [],
   "source": [
    "with open('data/aoc-2021-18.txt') as f:\n",
    "    dat = [x.strip() for x in f.readlines()]"
   ]
  },
  {
   "cell_type": "code",
   "execution_count": 42,
   "metadata": {},
   "outputs": [],
   "source": [
    "def tolist(line):\n",
    "    return [int(x) if x.isdigit() else x for x in list(line)]\n",
    "\n",
    "def explode(line):\n",
    "    depth = 0\n",
    "    ni = {}\n",
    "    left = False\n",
    "    \n",
    "    for i, c in enumerate(line):\n",
    "        if c == '[':\n",
    "            depth += 1\n",
    "            left = True\n",
    "        elif c == ']':\n",
    "            depth -= 1\n",
    "        elif c == ',':\n",
    "            left = False\n",
    "        else:\n",
    "            ni[i] = (depth, left, c)\n",
    "    \n",
    "    nidx = sorted(list(ni.keys()))\n",
    "    \n",
    "    ll = [x for x in line]\n",
    "    dl = -1\n",
    "    for n, i in enumerate(nidx):\n",
    "        (depth, left, c) = ni[i]\n",
    "        if depth > 4:\n",
    "            if left:\n",
    "                if n > 0:\n",
    "                    ll[nidx[n - 1]] = line[nidx[n - 1]] + line[i]\n",
    "                dl = i - 1\n",
    "            if not left:\n",
    "                if n < len(nidx) - 1:\n",
    "                    ll[nidx[n + 1]] = line[nidx[n + 1]] + line[i]\n",
    "                ll[dl] = 0\n",
    "                del(ll[dl+1:i+2])\n",
    "                return (True, ll)\n",
    "\n",
    "    return (False, line)\n",
    "\n",
    "def allExplode(line):\n",
    "    more = True\n",
    "    did = False\n",
    "    while more:\n",
    "        (more, line) = explode(line)\n",
    "        if more:\n",
    "            did = True\n",
    "    return (did, line)"
   ]
  },
  {
   "cell_type": "code",
   "execution_count": 43,
   "metadata": {},
   "outputs": [],
   "source": [
    "def split(line):\n",
    "    for i, c in enumerate(line):\n",
    "        if c not in ['[',',',']'] and c >= 10:\n",
    "            lv = int(c / 2)\n",
    "            rv = int(c / 2 + 0.5)\n",
    "            return (True, line[0:i] + ['[',lv,',',rv,']'] + line[i+1:])\n",
    "    return (False, line)\n",
    "\n",
    "def allSplit(line):\n",
    "    more = True\n",
    "    while more:\n",
    "        (more, line) = split(line)\n",
    "    return line"
   ]
  },
  {
   "cell_type": "code",
   "execution_count": 44,
   "metadata": {},
   "outputs": [],
   "source": [
    "def add(line1, line2):\n",
    "    return ['['] + line1 + [','] + line2 + [']']\n",
    "\n",
    "def reduce(line):\n",
    "    more = True\n",
    "    while more:\n",
    "        (more1, line) = allExplode(line)\n",
    "        (more2, line) = split(line)\n",
    "        more = more1 or more2\n",
    "        \n",
    "    return line"
   ]
  },
  {
   "cell_type": "code",
   "execution_count": 45,
   "metadata": {},
   "outputs": [],
   "source": [
    "def mag(line):\n",
    "    depth = 0\n",
    "    ni = {}\n",
    "    left = False\n",
    "    \n",
    "    for i, c in enumerate(line):\n",
    "        if c == '[':\n",
    "            depth += 1\n",
    "            left = True\n",
    "        elif c == ']':\n",
    "            depth -= 1\n",
    "        elif c == ',':\n",
    "            left = False\n",
    "        else:\n",
    "            ni[i] = (depth, left, c)\n",
    "    \n",
    "    nidx = sorted(list(ni.keys()))\n",
    "    \n",
    "    ll = [x for x in line]\n",
    "    dl = -1\n",
    "    dlv = -1\n",
    "    for n, i in enumerate(nidx):\n",
    "        (depth, left, c) = ni[i]\n",
    "        if left:\n",
    "            dl = i - 1\n",
    "            dlv = line[i]\n",
    "        if not left:\n",
    "            ll[dl] = 3*dlv+2*line[i]\n",
    "            del(ll[dl+1:i+2])\n",
    "            return (True, ll)\n",
    "\n",
    "    return (False, line)\n",
    "\n",
    "def allMag(line):\n",
    "    more = True\n",
    "    while more:\n",
    "        (more, line) = mag(line)\n",
    "        if len(line) == 1:\n",
    "            return line[0]"
   ]
  },
  {
   "cell_type": "code",
   "execution_count": 46,
   "metadata": {},
   "outputs": [],
   "source": [
    "val = tolist(dat[0])\n",
    "for v in dat[1:]:\n",
    "    val = reduce(add(val, tolist(v)))\n",
    "\n",
    "allSum = ''.join([str(x) if type(x) is not str else x for x in val])\n",
    "sumMag = allMag(val)"
   ]
  },
  {
   "cell_type": "code",
   "execution_count": 47,
   "metadata": {},
   "outputs": [
    {
     "name": "stdout",
     "output_type": "stream",
     "text": [
      "Part 1: 3734\n"
     ]
    }
   ],
   "source": [
    "print(f'Part 1: {allMag(val)}')"
   ]
  },
  {
   "cell_type": "code",
   "execution_count": 48,
   "metadata": {},
   "outputs": [],
   "source": [
    "pairSums = {}\n",
    "for i, a in enumerate(dat):\n",
    "    for j, b in enumerate(dat):\n",
    "        if i == j:\n",
    "            continue\n",
    "        pairSums[(i,j)] = allMag(reduce(add(tolist(a),tolist(b))))\n",
    "\n",
    "maxSum = sorted(pairSums.items(), key=lambda x: x[1], reverse=True)[0][1]"
   ]
  },
  {
   "cell_type": "code",
   "execution_count": 49,
   "metadata": {},
   "outputs": [
    {
     "name": "stdout",
     "output_type": "stream",
     "text": [
      "Part 2: 4837\n"
     ]
    }
   ],
   "source": [
    "print(f'Part 2: {maxSum}')"
   ]
  }
 ],
 "metadata": {
  "kernelspec": {
   "display_name": "Python 3 (ipykernel)",
   "language": "python",
   "name": "python3"
  },
  "language_info": {
   "codemirror_mode": {
    "name": "ipython",
    "version": 3
   },
   "file_extension": ".py",
   "mimetype": "text/x-python",
   "name": "python",
   "nbconvert_exporter": "python",
   "pygments_lexer": "ipython3",
   "version": "3.11.0"
  }
 },
 "nbformat": 4,
 "nbformat_minor": 2
}
