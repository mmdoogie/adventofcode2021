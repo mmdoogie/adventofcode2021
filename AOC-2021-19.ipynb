{
 "cells": [
  {
   "cell_type": "code",
   "execution_count": 1,
   "metadata": {},
   "outputs": [],
   "source": [
    "import math\n",
    "import itertools"
   ]
  },
  {
   "cell_type": "code",
   "execution_count": 117,
   "metadata": {},
   "outputs": [],
   "source": [
    "with open('data/aoc-2021-19.txt') as f:\n",
    "    dat = [x.strip() for x in f.readlines()]"
   ]
  },
  {
   "cell_type": "code",
   "execution_count": 118,
   "metadata": {},
   "outputs": [],
   "source": [
    "def dist(pt1, pt2):\n",
    "    return math.sqrt((pt1[0]-pt2[0])**2+(pt1[1]-pt2[1])**2+(pt1[2]-pt2[2])**2)\n",
    "\n",
    "def tplus(pt1, pt2):\n",
    "    return (pt1[0]+pt2[0], pt1[1]+pt2[1], pt1[2]+pt2[2])\n",
    "\n",
    "def tminus(pt1, pt2):\n",
    "    return (pt1[0]-pt2[0], pt1[1]-pt2[1], pt1[2]-pt2[2])\n"
   ]
  },
  {
   "cell_type": "code",
   "execution_count": 138,
   "metadata": {},
   "outputs": [],
   "source": [
    "class report:\n",
    "    i = None\n",
    "    pts = []\n",
    "    \n",
    "    def __init__(self, i, lines):\n",
    "        self.i = i\n",
    "        self.pts = [[int(x) for x in l.split(',')] for l in lines]\n",
    "        self.loc = (0, 0, 0)\n",
    "    \n",
    "    def modpts(self, conf, trans):\n",
    "        np = [tplus(p, trans) for p in self.getpts(conf)]\n",
    "        self.pts = np\n",
    "        self.loc = tplus(report._trpt(self.loc, conf), trans)\n",
    "    \n",
    "    def _trpt(p, conf):\n",
    "        # 0-3 : X+ Fwd\n",
    "        if conf == 0:\n",
    "            # X+ Fwd, Y+ Right, Z+ Down\n",
    "            idx = [0, 1, 2]\n",
    "            inv = [1, 1, 1]\n",
    "            \n",
    "        elif conf == 1:\n",
    "            # X+ Fwd, Z+ Left, Y+ Down \n",
    "            idx = [0, 2, 1]\n",
    "            inv = [1, -1, 1]\n",
    "            \n",
    "        elif conf == 2:\n",
    "            # X+ Fwd, Y+ Left, Z+ Up\n",
    "            idx = [0, 1, 2]\n",
    "            inv = [1, -1, -1]\n",
    "        \n",
    "        elif conf == 3:\n",
    "            # X+ Fwd, Z+ Right, Y+ Up\n",
    "            idx = [0, 2, 1]\n",
    "            inv = [1, 1, -1]\n",
    "        \n",
    "        # 4-7: X+ Rev\n",
    "        elif conf == 4:\n",
    "            # X+ Rev, Y+ Left, Z+ Down\n",
    "            idx = [0, 1, 2]\n",
    "            inv = [-1, -1, 1]\n",
    "        \n",
    "        elif conf == 5:\n",
    "            # X+ Rev, Z+ Left, Y+ Up\n",
    "            idx = [0, 2, 1]\n",
    "            inv = [-1, -1, -1]\n",
    "            \n",
    "        elif conf == 6:\n",
    "            # X+ Rev, Y+ Right, Z+ Up\n",
    "            idx = [0, 1, 2]\n",
    "            inv = [-1, 1, -1]\n",
    "            \n",
    "        elif conf == 7:\n",
    "            # X+ Rev, Z+ Right, Y+ Down\n",
    "            idx = [0, 2, 1]\n",
    "            inv = [-1, 1, 1]\n",
    "        \n",
    "        # 8-11: X+ Right\n",
    "        elif conf == 8:\n",
    "            # Y+ Rev, X+ Right, Z+ Down\n",
    "            idx = [1, 0, 2]\n",
    "            inv = [-1, 1, 1]\n",
    "            \n",
    "        elif conf == 9:\n",
    "            # Z+ Fwd, X+ Right, Y+ Down \n",
    "            idx = [2, 0, 1]\n",
    "            inv = [1, 1, 1]\n",
    "            \n",
    "        elif conf == 10:\n",
    "            # Y+ Fwd, X+ Right, Z+ Up\n",
    "            idx = [1, 0, 2]\n",
    "            inv = [1, 1, -1]\n",
    "        \n",
    "        elif conf == 11:\n",
    "            # Z+ Rev, X+ Right, Y+ Up\n",
    "            idx = [2, 0, 1]\n",
    "            inv = [-1, 1, -1]\n",
    "        \n",
    "        # 12-15: X+ Left\n",
    "        elif conf == 12:\n",
    "            # Y+ Fwd, X+ Left, Z+ Down\n",
    "            idx = [1, 0, 2]\n",
    "            inv = [1, -1, 1]\n",
    "        \n",
    "        elif conf == 13:\n",
    "            # Z+ Rev, X+ Left, Y+ Down\n",
    "            idx = [2, 0, 1]\n",
    "            inv = [-1, -1, 1]\n",
    "            \n",
    "        elif conf == 14:\n",
    "            # Y+ Rev, X+ Left, Z+ Up\n",
    "            idx = [1, 0, 2]\n",
    "            inv = [-1, -1, -1]\n",
    "            \n",
    "        elif conf == 15:\n",
    "            # Z+ Fwd, X+ Left, Y+ Up\n",
    "            idx = [2, 0, 1]\n",
    "            inv = [1, -1, -1]\n",
    "        \n",
    "        # 16-19: X+ Down\n",
    "        elif conf == 16:\n",
    "            # Z+ Rev, Y+ Right, X+ Down\n",
    "            idx = [2, 1, 0]\n",
    "            inv = [-1, 1, 1]\n",
    "            \n",
    "        elif conf == 17:\n",
    "            # Y+ Rev, Z+ Left, X+ Down \n",
    "            idx = [1, 2, 0]\n",
    "            inv = [-1, -1, 1]\n",
    "            \n",
    "        elif conf == 18:\n",
    "            # Z+ Fwd, Y+ Left, X+ Down\n",
    "            idx = [2, 1, 0]\n",
    "            inv = [1, -1, 1]\n",
    "        \n",
    "        elif conf == 19:\n",
    "            # Y+ Fwd, Z+ Right, X+ Down\n",
    "            idx = [1, 2, 0]\n",
    "            inv = [1, 1, 1]\n",
    "        \n",
    "        # 20-23: X+ Up\n",
    "        elif conf == 20:\n",
    "            # Z+ Fwd, Y+ Right, X+ Up\n",
    "            idx = [2, 1, 0]\n",
    "            inv = [1, 1, -1]\n",
    "        \n",
    "        elif conf == 21:\n",
    "            # Y+ Rev, Z+ Right, X+ Up\n",
    "            idx = [1, 2, 0]\n",
    "            inv = [-1, 1, -1]\n",
    "            \n",
    "        elif conf == 22:\n",
    "            # Z+ Rev, Y+ Left, X+ Up\n",
    "            idx = [2, 1, 0]\n",
    "            inv = [-1, -1, -1]\n",
    "            \n",
    "        elif conf == 23:\n",
    "            # Y+ Fwd, Z+ Left, X+ Up\n",
    "            idx = [1, 2, 0]\n",
    "            inv = [1, -1, -1]\n",
    "        \n",
    "        return (p[idx[0]]*inv[0], p[idx[1]]*inv[1], p[idx[2]]*inv[2])\n",
    "\n",
    "    def getpts(self, conf):\n",
    "        return [report._trpt(p, conf) for p in self.pts]"
   ]
  },
  {
   "cell_type": "code",
   "execution_count": 139,
   "metadata": {},
   "outputs": [],
   "source": [
    "rpts = []\n",
    "lines = []\n",
    "i = -1\n",
    "for d in dat:\n",
    "    if len(d) == 0:\n",
    "        i += 1\n",
    "        rpts += [report(i, lines)]\n",
    "        lines = []\n",
    "    elif not d.startswith('---'):\n",
    "        lines += [d]\n",
    "if len(lines) != 0:\n",
    "    i += 1\n",
    "    rpts += [report(i, lines)]"
   ]
  },
  {
   "cell_type": "code",
   "execution_count": 140,
   "metadata": {},
   "outputs": [],
   "source": [
    "params = []\n",
    "for r1, r2 in itertools.permutations(rpts, 2):\n",
    "    p1 = r1.getpts(0)\n",
    "    z1 = {int(1000 * round(dist(a, b), 3)): (a, b) for a, b in itertools.combinations(p1, 2)}\n",
    "    p2 = r2.getpts(0)\n",
    "    z2 = {int(1000 * round(dist(a, b), 3)): (a, b) for a, b in itertools.combinations(p2, 2)}\n",
    "    m12 = set([a for k, v in z1.items() if k in z2 for a in v])\n",
    "    if len(m12) >= 12:\n",
    "        m120 = list(m12)[0]\n",
    "        for c in range(24):\n",
    "            p2 = r2.getpts(c)\n",
    "            z2 = {int(1000 * round(dist(a, b), 3)): (a, b) for a, b in itertools.combinations(p2, 2)}\n",
    "            m21 = set([a for k, v in z2.items() if k in z1 for a in v])\n",
    "            for o1 in m21:\n",
    "                o = tminus(m120, o1)\n",
    "                d = sum([1 if int(dist(tminus(a, o), b))==0 else 0 for a in m12 for b in m21])\n",
    "                if d == 12:\n",
    "                    params += [(r1.i, r2.i, c, o)]\n",
    "\n",
    "pmap = {(a,b): (c,d) for (a,b,c,d) in params}"
   ]
  },
  {
   "cell_type": "code",
   "execution_count": 141,
   "metadata": {},
   "outputs": [],
   "source": [
    "edges = [(p[0], p[1]) for p in params] + [(p[1], p[0]) for p in params]\n",
    "pts = set([x for p in params for x in p[0:2]])\n",
    "ngs = {p: [x[1] for x in edges if x[0] == p] for p in pts}"
   ]
  },
  {
   "cell_type": "code",
   "execution_count": 142,
   "metadata": {},
   "outputs": [],
   "source": [
    "def djikstra(pts, ngs):\n",
    "    visited = set()\n",
    "\n",
    "    weights = dict()\n",
    "    paths = dict()\n",
    "\n",
    "    currPoint = 0\n",
    "    weights[0] = 0\n",
    "    paths[0] = [0]\n",
    "    \n",
    "    explore = dict()\n",
    "    explore[0] = 0\n",
    "\n",
    "    while len(visited) < len(pts):\n",
    "        del(explore[currPoint])\n",
    "        currWeight = weights[currPoint] + 1\n",
    "        currPath = paths[currPoint] \n",
    "        visited.add(currPoint)\n",
    "        for n in ngs[currPoint]:\n",
    "            if n not in weights or currWeight < weights[n]:\n",
    "                weights[n] = currWeight\n",
    "                paths[n] = currPath + [n]\n",
    "            if n not in visited:\n",
    "                explore[n] = currWeight\n",
    "        cand = sorted(list(explore.items()), key=lambda x: x[1])\n",
    "        if len(cand) == 0:\n",
    "            break\n",
    "        currPoint, currWeight = cand[0]\n",
    "\n",
    "    return weights, paths"
   ]
  },
  {
   "cell_type": "code",
   "execution_count": 143,
   "metadata": {},
   "outputs": [],
   "source": [
    "weights, paths = djikstra(pts, ngs)"
   ]
  },
  {
   "cell_type": "code",
   "execution_count": 144,
   "metadata": {},
   "outputs": [],
   "source": [
    "psteps = {k: list(itertools.pairwise(reversed(v))) for k, v in paths.items()}"
   ]
  },
  {
   "cell_type": "code",
   "execution_count": 145,
   "metadata": {},
   "outputs": [],
   "source": [
    "allPoints = set(rpts[0].getpts(0))\n",
    "\n",
    "for i, r in enumerate(rpts):\n",
    "    if i == 0:\n",
    "        continue\n",
    "    for s in psteps[i]:\n",
    "        rs = (s[1], s[0])\n",
    "        c, t = pmap[(rs)]\n",
    "        r.modpts(c,t)\n",
    "    allPoints.update(r.getpts(0))"
   ]
  },
  {
   "cell_type": "code",
   "execution_count": 156,
   "metadata": {},
   "outputs": [
    {
     "name": "stdout",
     "output_type": "stream",
     "text": [
      "Part 1: 342\n"
     ]
    }
   ],
   "source": [
    "print(f'Part 1: {len(allPoints)}')"
   ]
  },
  {
   "cell_type": "code",
   "execution_count": 153,
   "metadata": {},
   "outputs": [],
   "source": [
    "rlocs = [r.loc for r in rpts]\n",
    "maxDist = sorted([abs(a[0]-b[0]) + abs(a[1]-b[1]) + abs(a[2]-b[2]) for a,b in itertools.combinations(rlocs, 2)], reverse=True)[0]"
   ]
  },
  {
   "cell_type": "code",
   "execution_count": 155,
   "metadata": {},
   "outputs": [
    {
     "name": "stdout",
     "output_type": "stream",
     "text": [
      "Part 2: 9668\n"
     ]
    }
   ],
   "source": [
    "print(f'Part 2: {maxDist}')"
   ]
  }
 ],
 "metadata": {
  "kernelspec": {
   "display_name": "Python 3 (ipykernel)",
   "language": "python",
   "name": "python3"
  },
  "language_info": {
   "codemirror_mode": {
    "name": "ipython",
    "version": 3
   },
   "file_extension": ".py",
   "mimetype": "text/x-python",
   "name": "python",
   "nbconvert_exporter": "python",
   "pygments_lexer": "ipython3",
   "version": "3.11.0"
  }
 },
 "nbformat": 4,
 "nbformat_minor": 2
}
