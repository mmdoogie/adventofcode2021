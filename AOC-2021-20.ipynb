{
 "cells": [
  {
   "cell_type": "code",
   "execution_count": 6,
   "metadata": {},
   "outputs": [],
   "source": [
    "with open('data/aoc-2021-20.txt') as f:\n",
    "    dat = [x.strip() for x in f.readlines()]"
   ]
  },
  {
   "cell_type": "code",
   "execution_count": 53,
   "metadata": {},
   "outputs": [],
   "source": [
    "algo = ['1' if c == '#' else '0' for c in dat[0]]"
   ]
  },
  {
   "cell_type": "code",
   "execution_count": 14,
   "metadata": {},
   "outputs": [],
   "source": [
    "img = [['1' if c == '#' else '0' for c in l] for l in dat[2:]]"
   ]
  },
  {
   "cell_type": "code",
   "execution_count": 50,
   "metadata": {},
   "outputs": [],
   "source": [
    "def getregion(img, x, y, dflt):\n",
    "    h = len(img)\n",
    "    w = len(img[0])\n",
    "    rgn = ''\n",
    "    \n",
    "    for dy in [-1, 0, 1]:\n",
    "        yy = y + dy\n",
    "        for dx in [-1, 0, 1]:\n",
    "            xx = x + dx\n",
    "            if xx < 0 or yy < 0 or xx >= w or yy >= h:\n",
    "                rgn += dflt\n",
    "            else:\n",
    "                rgn += img[yy][xx]\n",
    "    \n",
    "    return rgn\n",
    "\n",
    "def ENHANCE(algo, img, dflt):\n",
    "    h = len(img)\n",
    "    w = len(img[0])\n",
    "    \n",
    "    ni = []\n",
    "    \n",
    "    for y in range(-1, h+1):\n",
    "        l = []\n",
    "        for x in range(-1, h+1):\n",
    "            rs = getregion(img, x, y, dflt)\n",
    "            rv = int(''.join(rs), 2)\n",
    "            ov = algo[rv]\n",
    "            l += [ov]\n",
    "        ni += [l]\n",
    "\n",
    "    return ni"
   ]
  },
  {
   "cell_type": "code",
   "execution_count": 77,
   "metadata": {},
   "outputs": [],
   "source": [
    "s1 = ENHANCE(algo, img, '0')"
   ]
  },
  {
   "cell_type": "code",
   "execution_count": 78,
   "metadata": {},
   "outputs": [],
   "source": [
    "s2 = ENHANCE(algo, s1, '1')"
   ]
  },
  {
   "cell_type": "code",
   "execution_count": 79,
   "metadata": {},
   "outputs": [],
   "source": [
    "cnt = sum([sum([int(y) for y in x]) for x in s2])"
   ]
  },
  {
   "cell_type": "code",
   "execution_count": 80,
   "metadata": {},
   "outputs": [
    {
     "name": "stdout",
     "output_type": "stream",
     "text": [
      "Part 1: 5597\n"
     ]
    }
   ],
   "source": [
    "print(f'Part 1: {cnt}')"
   ]
  },
  {
   "cell_type": "code",
   "execution_count": 86,
   "metadata": {},
   "outputs": [],
   "source": [
    "s = [[y for y in x] for x in img]\n",
    "for n in range(50):\n",
    "    dflt = '1' if n % 2 else '0'\n",
    "    s = ENHANCE(algo, s, dflt)\n",
    "cnt2 = sum([sum([int(y) for y in x]) for x in s])"
   ]
  },
  {
   "cell_type": "code",
   "execution_count": 87,
   "metadata": {},
   "outputs": [
    {
     "data": {
      "text/plain": [
       "18723"
      ]
     },
     "execution_count": 87,
     "metadata": {},
     "output_type": "execute_result"
    }
   ],
   "source": [
    "cnt2"
   ]
  },
  {
   "cell_type": "code",
   "execution_count": null,
   "metadata": {},
   "outputs": [],
   "source": []
  }
 ],
 "metadata": {
  "kernelspec": {
   "display_name": "Python 3 (ipykernel)",
   "language": "python",
   "name": "python3"
  },
  "language_info": {
   "codemirror_mode": {
    "name": "ipython",
    "version": 3
   },
   "file_extension": ".py",
   "mimetype": "text/x-python",
   "name": "python",
   "nbconvert_exporter": "python",
   "pygments_lexer": "ipython3",
   "version": "3.11.0"
  }
 },
 "nbformat": 4,
 "nbformat_minor": 2
}
