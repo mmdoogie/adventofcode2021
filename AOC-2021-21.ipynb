{
 "cells": [
  {
   "cell_type": "code",
   "execution_count": 2,
   "metadata": {},
   "outputs": [],
   "source": [
    "from functools import cache"
   ]
  },
  {
   "cell_type": "code",
   "execution_count": 3,
   "metadata": {},
   "outputs": [],
   "source": [
    "with open('data/aoc-2021-21.txt') as f:",
    "    startPos = [int(x.strip().split(' ')[4]) for x in f.readlines()]"
   ]
  },
  {
   "cell_type": "code",
   "execution_count": 4,
   "metadata": {},
   "outputs": [],
   "source": [
    "class detdie:\n",
    "    curr = 0\n",
    "    cnt = 0\n",
    "    \n",
    "    def __init__(self):\n",
    "        self.curr = 0\n",
    "        self.cnt = 0\n",
    "    \n",
    "    def roll(self):\n",
    "        rv = self.curr + 1\n",
    "        self.curr = (self.curr + 1) % 100\n",
    "        self.cnt += 1\n",
    "        return rv"
   ]
  },
  {
   "cell_type": "code",
   "execution_count": 5,
   "metadata": {},
   "outputs": [
    {
     "name": "stdout",
     "output_type": "stream",
     "text": [
      "Part 1: 1002474\n"
     ]
    }
   ],
   "source": [
    "d = detdie()\n",
    "\n",
    "scores = [0, 0]\n",
    "pos = [p-1 for p in startPos]\n",
    "\n",
    "while True:\n",
    "    for i in range(2):\n",
    "        rolls = [d.roll() for x in range(3)]\n",
    "        move = sum(rolls)\n",
    "        pos[i] = (pos[i] + move) % 10\n",
    "        scores[i] += pos[i] + 1\n",
    "        #print(f'Player {i} rolls {rolls} moves {move} pos {pos[i]} score {scores[i]}')\n",
    "        if scores[i] >= 1000:\n",
    "            break\n",
    "    if any([sc >= 1000 for sc in scores]):\n",
    "        break\n",
    "\n",
    "print('Part 1:', min(scores) * d.cnt)"
   ]
  },
  {
   "cell_type": "code",
   "execution_count": 8,
   "metadata": {},
   "outputs": [],
   "source": [
    "dirac_rolls = []\n",
    "for r1 in range(3):\n",
    "    for r2 in range(3):\n",
    "        for r3 in range(3):\n",
    "            dirac_rolls += [r1 + r2 + r3 + 3]\n",
    "\n",
    "@cache\n",
    "def onemove(pos1, pos2, score1, score2):\n",
    "    if score1 >= 21:\n",
    "        return (1, 0)\n",
    "    if score2 >= 21:\n",
    "        return (0, 1)\n",
    "    \n",
    "    wins1 = 0\n",
    "    wins2 = 0\n",
    "    \n",
    "    for roll in dirac_rolls:\n",
    "        np = (pos1 + roll) % 10\n",
    "        ns = score1 + np + 1\n",
    "        (w2, w1) = onemove(pos2, np, score2, ns)\n",
    "        wins1 += w1\n",
    "        wins2 += w2\n",
    "    \n",
    "    return (wins1, wins2)"
   ]
  },
  {
   "cell_type": "code",
   "execution_count": 14,
   "metadata": {},
   "outputs": [
    {
     "name": "stdout",
     "output_type": "stream",
     "text": [
      "Part 2: 919758187195363\n"
     ]
    }
   ],
   "source": [
    "wins = onemove(startPos[0]-1, startPos[1]-1, 0, 0)\n",
    "print('Part 2:', max(wins))"
   ]
  }
 ],
 "metadata": {
  "kernelspec": {
   "display_name": "Python 3 (ipykernel)",
   "language": "python",
   "name": "python3"
  },
  "language_info": {
   "codemirror_mode": {
    "name": "ipython",
    "version": 3
   },
   "file_extension": ".py",
   "mimetype": "text/x-python",
   "name": "python",
   "nbconvert_exporter": "python",
   "pygments_lexer": "ipython3",
   "version": "3.11.0"
  }
 },
 "nbformat": 4,
 "nbformat_minor": 2
}
