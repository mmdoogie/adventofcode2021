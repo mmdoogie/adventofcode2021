{
 "cells": [
  {
   "cell_type": "code",
   "execution_count": 50,
   "metadata": {},
   "outputs": [],
   "source": [
    "with open('data/aoc-2021-22.txt') as f:\n",
    "    dat = [x.strip() for x in f.readlines()]"
   ]
  },
  {
   "cell_type": "code",
   "execution_count": 51,
   "metadata": {},
   "outputs": [],
   "source": [
    "import re\n",
    "r = re.compile('([onf]{2,3}) x=([-0-9]*)\\.\\.([-0-9]*),y=([-0-9]*)\\.\\.([-0-9]*),z=([-0-9]*)\\.\\.([-0-9]*)')\n",
    "\n",
    "cmds = [r.match(d).groups() for d in dat]"
   ]
  },
  {
   "cell_type": "code",
   "execution_count": 56,
   "metadata": {},
   "outputs": [
    {
     "name": "stdout",
     "output_type": "stream",
     "text": [
      "Part 1: 603661\n"
     ]
    }
   ],
   "source": [
    "on_blocks = set()\n",
    "\n",
    "for c in cmds:\n",
    "    xMin = int(c[1])\n",
    "    xMax = int(c[2])\n",
    "    yMin = int(c[3])\n",
    "    yMax = int(c[4])\n",
    "    zMin = int(c[5])\n",
    "    zMax = int(c[6])\n",
    "    \n",
    "    for x in range(xMin, xMax+1):\n",
    "        if x < -50 or x > 50:\n",
    "            continue\n",
    "        for y in range(yMin, yMax+1):\n",
    "            if y < -50 or y > 50:\n",
    "                continue\n",
    "            for z in range(zMin, zMax+1):\n",
    "                if z < -50 or z > 50:\n",
    "                    continue\n",
    "                \n",
    "                if c[0] == 'on':\n",
    "                    on_blocks.add((x,y,z))\n",
    "                else:\n",
    "                    on_blocks.discard((x,y,z))\n",
    "\n",
    "print(f'Part 1: {len(on_blocks)}')"
   ]
  },
  {
   "cell_type": "code",
   "execution_count": 57,
   "metadata": {},
   "outputs": [],
   "source": [
    "class block_range:\n",
    "    xMin = 0\n",
    "    xMax = 0\n",
    "    yMin = 0\n",
    "    yMax = 0\n",
    "    zMin = 0\n",
    "    zMax = 0\n",
    "    \n",
    "    def __init__(self, x1, x2, y1, y2, z1, z2):\n",
    "        self.xMin = min(x1,x2)\n",
    "        self.xMax = max(x1,x2)\n",
    "        self.yMin = min(y1,y2)\n",
    "        self.yMax = max(y1,y2)\n",
    "        self.zMin = min(z1,z2)\n",
    "        self.zMax = max(z2,z2)\n",
    "        \n",
    "    def __repr__(self):\n",
    "        return f'<x: {self.xMin}, {self.xMax}, y: {self.yMin}, {self.yMax}, z: {self.zMin}, {self.zMax}>'\n",
    "    \n",
    "    def size(self):\n",
    "        return (self.xMax-self.xMin+1)*(self.yMax-self.yMin+1)*(self.zMax-self.zMin+1)\n",
    "\n",
    "    def overlap(self, br2):\n",
    "        rv = []\n",
    "\n",
    "        if br2.xMin > self.xMax or br2.xMax < self.xMin or br2.yMin > self.yMax or br2.yMax < self.yMin or br2.zMin > self.zMax or br2.zMax < self.zMin:\n",
    "            return None\n",
    "        \n",
    "        return block_range(max(self.xMin, br2.xMin), min(self.xMax, br2.xMax),\n",
    "                           max(self.yMin, br2.yMin), min(self.yMax, br2.yMax),\n",
    "                           max(self.zMin, br2.zMin), min(self.zMax, br2.zMax))"
   ]
  },
  {
   "cell_type": "code",
   "execution_count": 58,
   "metadata": {},
   "outputs": [
    {
     "name": "stdout",
     "output_type": "stream",
     "text": [
      "Part 2: 1237264238382479\n"
     ]
    }
   ],
   "source": [
    "brs = []\n",
    "for c in cmds:\n",
    "    x1, x2, y1, y2, z1, z2 = [int(v) for v in c[1:]]\n",
    "    brs += [(c[0], block_range(x1, x2, y1, y2, z1, z2))]\n",
    "\n",
    "pos_blocks = []\n",
    "neg_blocks = []\n",
    "for c, b in brs:\n",
    "    if c == 'on':\n",
    "        nn = []\n",
    "        np = [b]\n",
    "        for p in pos_blocks:\n",
    "            o = b.overlap(p)\n",
    "            if o:\n",
    "                nn += [o]\n",
    "        for n in neg_blocks:\n",
    "            o = b.overlap(n)\n",
    "            if o:\n",
    "                np += [o]\n",
    "        pos_blocks += np\n",
    "        neg_blocks += nn\n",
    "    else:\n",
    "        nn = []\n",
    "        np = []\n",
    "        for p in pos_blocks:\n",
    "            o = b.overlap(p)\n",
    "            if o:\n",
    "                nn += [o]\n",
    "        for n in neg_blocks:\n",
    "            o = b.overlap(n)\n",
    "            if o:\n",
    "                np += [o]\n",
    "        pos_blocks += np\n",
    "        neg_blocks += nn\n",
    "\n",
    "total = sum([b.size() for b in pos_blocks]) - sum([b.size() for b in neg_blocks])\n",
    "print(f'Part 2: {total}')"
   ]
  }
 ],
 "metadata": {
  "kernelspec": {
   "display_name": "Python 3 (ipykernel)",
   "language": "python",
   "name": "python3"
  },
  "language_info": {
   "codemirror_mode": {
    "name": "ipython",
    "version": 3
   },
   "file_extension": ".py",
   "mimetype": "text/x-python",
   "name": "python",
   "nbconvert_exporter": "python",
   "pygments_lexer": "ipython3",
   "version": "3.11.0"
  }
 },
 "nbformat": 4,
 "nbformat_minor": 2
}
