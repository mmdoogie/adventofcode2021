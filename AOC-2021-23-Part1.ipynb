{
 "cells": [
  {
   "cell_type": "code",
   "execution_count": 1,
   "metadata": {},
   "outputs": [],
   "source": [
    "import random"
   ]
  },
  {
   "cell_type": "code",
   "execution_count": null,
   "metadata": {},
   "outputs": [],
   "source": [
    "with open('data/aoc-2021-23.txt') as f:\n",
    "    dat = [x.strip() for x in f.readlines()]\n",
    "row1 = [ord(x)-ord('A') for x in dat[2].split('#')[3:7]]\n",
    "row2 = [ord(x)-ord('A') for x in dat[3].split('#')[1:5]]\n"
   ]
  },
  {
   "cell_type": "code",
   "execution_count": 16,
   "metadata": {},
   "outputs": [],
   "source": [
    "class amphipod:\n",
    "    last_pos = ('room', 0, 0)\n",
    "    curr_pos = ('room', 0, 0)\n",
    "    dest_room = 0\n",
    "    weight = 1\n",
    "    dist = 0\n",
    "    max_depth = 1\n",
    "    \n",
    "    def __init__(self, pos, dest_room, max_depth = 1):\n",
    "        self.last_pos = pos\n",
    "        self.curr_pos = pos\n",
    "        self.weight = 10**dest_room\n",
    "        self.dest_room = dest_room\n",
    "        self.max_depth = max_depth\n",
    "        \n",
    "    def __repr__(self):\n",
    "        return (f'dst {self.dest_room} @ {self.curr_pos}')\n",
    "    \n",
    "    def energy(self):\n",
    "        return self.weight * self.dist\n",
    "\n",
    "    def move(self, pos):\n",
    "        self.last_pos = self.curr_pos\n",
    "        self.curr_pos = pos\n",
    "        if self.curr_pos[0] == 'hall':\n",
    "            self.dist += 1 + self.last_pos[2]\n",
    "            if self.curr_pos[1] < 2*self.last_pos[1]:\n",
    "                self.dist += 2*self.last_pos[1] - self.curr_pos[1]\n",
    "            else:\n",
    "                self.dist += self.curr_pos[1] - 2*self.last_pos[1]\n",
    "        else:\n",
    "            self.dist += 1 + self.curr_pos[2]\n",
    "            if 2*self.curr_pos[1] < self.last_pos[1]:\n",
    "                self.dist += self.last_pos[1] - 2*self.curr_pos[1]\n",
    "            else:\n",
    "                self.dist += 2*self.curr_pos[1] - self.last_pos[1]\n",
    "    \n",
    "    def valid_moves(self, pods):\n",
    "        if self.curr_pos[0] == 'room' and self.last_pos[0] == 'hall':\n",
    "            return []\n",
    "        if self.curr_pos[0] == 'room':\n",
    "            if self.curr_pos[2] >= 1 and any([p.curr_pos[0] == 'room' and p.curr_pos[1] == self.curr_pos[1] and p.curr_pos[2] < self.curr_pos[2] for p in pods]):\n",
    "                return []\n",
    "            left = [p.curr_pos[1] for p in pods if p.curr_pos[0] == 'hall' and p.curr_pos[1] <= 2*self.curr_pos[1] - 1]\n",
    "            right = [p.curr_pos[1] for p in pods if p.curr_pos[0] == 'hall' and p.curr_pos[1] >= 2*self.curr_pos[1] + 1]\n",
    "            if 2*self.curr_pos[1]-1 in left and 2*self.curr_pos[1]+1 in right:\n",
    "                return []\n",
    "            else:\n",
    "                lpos = [('hall', x, 0) for x in range(-2 if len(left) == 0 else max(left)+1, 2*self.curr_pos[1]) if x not in [0,2,4,6]]\n",
    "                rpos = [('hall', x, 0) for x in range(2*self.curr_pos[1]+1, 9 if len(right) == 0 else min(right)) if x not in [0,2,4,6]]\n",
    "                return lpos + rpos\n",
    "        else:\n",
    "            occ = [p for p in pods if p.curr_pos[0] == 'room' and p.curr_pos[1] == self.dest_room]\n",
    "            if any([p.dest_room != self.dest_room for p in occ]):\n",
    "                return []\n",
    "            if 2*self.dest_room < self.curr_pos[1]:\n",
    "                if any([p.curr_pos[0] == 'hall' and p.curr_pos[1] in range(2*self.dest_room+1, self.curr_pos[1]) for p in pods]):\n",
    "                    return []\n",
    "            else:\n",
    "                if any([p.curr_pos[0] == 'hall' and p.curr_pos[1] in range(self.curr_pos[1]+1, 2*self.dest_room) for p in pods]):\n",
    "                    return []\n",
    "\n",
    "            return [('room', self.dest_room, self.max_depth-len(occ))]"
   ]
  },
  {
   "cell_type": "code",
   "execution_count": 7,
   "metadata": {},
   "outputs": [],
   "source": [
    "def random_game():\n",
    "    pods = [amphipod(('room', i, 0), x) for i,x in enumerate(row1)] + [amphipod(('room', i, 1), x) for i,x in enumerate(row2)]\n",
    "\n",
    "    moves = []\n",
    "    \n",
    "    while True:\n",
    "        m = [(i, m) for i, p in enumerate(pods) for m in p.valid_moves(pods)]\n",
    "        v = random.choice(m)\n",
    "        pods[v[0]].move(v[1])\n",
    "        moves += [v]\n",
    "        if len(moves) > 50:\n",
    "            return None\n",
    "        if sum([len(p.valid_moves(pods)) for p in pods]) == 0:\n",
    "            if all([p.curr_pos[0] == 'room' and p.curr_pos[1] == p.dest_room for p in pods]):\n",
    "                return (sum([p.energy() for p in pods]), pods, moves)\n",
    "            else:\n",
    "                return None"
   ]
  },
  {
   "cell_type": "code",
   "execution_count": 15,
   "metadata": {},
   "outputs": [
    {
     "name": "stdout",
     "output_type": "stream",
     "text": [
      "Part 1: 15180\n"
     ]
    }
   ],
   "source": [
    "res = [random_game() for i in range(10000)]\n",
    "mv = min([r[0] for r in res if r is not None])\n",
    "print(f'Part 1: {mv}')"
   ]
  },
  {
   "cell_type": "code",
   "execution_count": null,
   "metadata": {},
   "outputs": [],
   "source": []
  }
 ],
 "metadata": {
  "kernelspec": {
   "display_name": "Python 3 (ipykernel)",
   "language": "python",
   "name": "python3"
  },
  "language_info": {
   "codemirror_mode": {
    "name": "ipython",
    "version": 3
   },
   "file_extension": ".py",
   "mimetype": "text/x-python",
   "name": "python",
   "nbconvert_exporter": "python",
   "pygments_lexer": "ipython3",
   "version": "3.11.0"
  }
 },
 "nbformat": 4,
 "nbformat_minor": 2
}
